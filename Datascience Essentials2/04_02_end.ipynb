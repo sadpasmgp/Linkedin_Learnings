{
 "cells": [
  {
   "cell_type": "markdown",
   "metadata": {
    "collapsed": true
   },
   "source": [
    "# Chapter 4 - Clustering Models\n",
    "## Segment 2 - Hierarchial methods\n",
    "#### Setting up for clustering analysis"
   ]
  },
  {
   "cell_type": "code",
   "execution_count": 2,
   "metadata": {},
   "outputs": [],
   "source": [
    "import numpy as np\n",
    "import pandas as pd\n",
    "\n",
    "import matplotlib.pyplot as plt\n",
    "from pylab import rcParams\n",
    "import seaborn as sb\n",
    "import plotly.express as px\n",
    "\n",
    "import sklearn\n",
    "import sklearn.metrics as sm"
   ]
  },
  {
   "cell_type": "code",
   "execution_count": 3,
   "metadata": {},
   "outputs": [],
   "source": [
    "from sklearn.cluster import AgglomerativeClustering\n",
    "\n",
    "import scipy\n",
    "from scipy.cluster.hierarchy import dendrogram, linkage\n",
    "from scipy.cluster.hierarchy import fcluster\n",
    "from scipy.cluster.hierarchy import cophenet\n",
    "from scipy.spatial.distance import pdist"
   ]
  },
  {
   "cell_type": "code",
   "execution_count": 4,
   "metadata": {},
   "outputs": [],
   "source": [
    "np.set_printoptions(precision=4, suppress=True)\n",
    "\n",
    "plt.figure(figsize=(10, 3))\n",
    "%matplotlib inline\n",
    "plt.style.use('seaborn-whitegrid')"
   ]
  },
  {
   "cell_type": "code",
   "execution_count": 5,
   "metadata": {},
   "outputs": [],
   "source": [
    "address = r'/home/sp/sp/Master Python for Datascience/10Python Datascience Essentials part2/Python Datascience Essentials2 Exercise Files/Data/mtcars.csv'\n",
    "\n",
    "cars = pd.read_csv(address)\n",
    "cars.columns = ['car_names','mpg','cyl','disp', 'hp', 'drat', 'wt', 'qsec', 'vs', 'am', 'gear', 'carb']\n",
    "\n",
    "X = cars[['mpg', 'disp', 'hp', 'wt']].values\n",
    "\n",
    "y = cars.iloc[:,(9)].values"
   ]
  },
  {
   "cell_type": "code",
   "execution_count": 6,
   "metadata": {},
   "outputs": [
    {
     "data": {
      "text/plain": [
       "array([[ 21.   , 160.   , 110.   ,   2.62 ],\n",
       "       [ 21.   , 160.   , 110.   ,   2.875],\n",
       "       [ 22.8  , 108.   ,  93.   ,   2.32 ],\n",
       "       [ 21.4  , 258.   , 110.   ,   3.215],\n",
       "       [ 18.7  , 360.   , 175.   ,   3.44 ],\n",
       "       [ 18.1  , 225.   , 105.   ,   3.46 ],\n",
       "       [ 14.3  , 360.   , 245.   ,   3.57 ],\n",
       "       [ 24.4  , 146.7  ,  62.   ,   3.19 ],\n",
       "       [ 22.8  , 140.8  ,  95.   ,   3.15 ],\n",
       "       [ 19.2  , 167.6  , 123.   ,   3.44 ],\n",
       "       [ 17.8  , 167.6  , 123.   ,   3.44 ],\n",
       "       [ 16.4  , 275.8  , 180.   ,   4.07 ],\n",
       "       [ 17.3  , 275.8  , 180.   ,   3.73 ],\n",
       "       [ 15.2  , 275.8  , 180.   ,   3.78 ],\n",
       "       [ 10.4  , 472.   , 205.   ,   5.25 ],\n",
       "       [ 10.4  , 460.   , 215.   ,   5.424],\n",
       "       [ 14.7  , 440.   , 230.   ,   5.345],\n",
       "       [ 32.4  ,  78.7  ,  66.   ,   2.2  ],\n",
       "       [ 30.4  ,  75.7  ,  52.   ,   1.615],\n",
       "       [ 33.9  ,  71.1  ,  65.   ,   1.835],\n",
       "       [ 21.5  , 120.1  ,  97.   ,   2.465],\n",
       "       [ 15.5  , 318.   , 150.   ,   3.52 ],\n",
       "       [ 15.2  , 304.   , 150.   ,   3.435],\n",
       "       [ 13.3  , 350.   , 245.   ,   3.84 ],\n",
       "       [ 19.2  , 400.   , 175.   ,   3.845],\n",
       "       [ 27.3  ,  79.   ,  66.   ,   1.935],\n",
       "       [ 26.   , 120.3  ,  91.   ,   2.14 ],\n",
       "       [ 30.4  ,  95.1  , 113.   ,   1.513],\n",
       "       [ 15.8  , 351.   , 264.   ,   3.17 ],\n",
       "       [ 19.7  , 145.   , 175.   ,   2.77 ],\n",
       "       [ 15.   , 301.   , 335.   ,   3.57 ],\n",
       "       [ 21.4  , 121.   , 109.   ,   2.78 ]])"
      ]
     },
     "execution_count": 6,
     "metadata": {},
     "output_type": "execute_result"
    }
   ],
   "source": [
    "X"
   ]
  },
  {
   "cell_type": "code",
   "execution_count": 7,
   "metadata": {},
   "outputs": [
    {
     "data": {
      "text/plain": [
       "array([1, 1, 1, 0, 0, 0, 0, 0, 0, 0, 0, 0, 0, 0, 0, 0, 0, 1, 1, 1, 0, 0,\n",
       "       0, 0, 0, 1, 1, 1, 1, 1, 1, 1])"
      ]
     },
     "execution_count": 7,
     "metadata": {},
     "output_type": "execute_result"
    }
   ],
   "source": [
    "y"
   ]
  },
  {
   "cell_type": "markdown",
   "metadata": {
    "collapsed": true
   },
   "source": [
    "### Using scipy to generate dendrograms"
   ]
  },
  {
   "cell_type": "code",
   "execution_count": 8,
   "metadata": {},
   "outputs": [],
   "source": [
    "Z = linkage(X, 'ward')"
   ]
  },
  {
   "cell_type": "code",
   "execution_count": 9,
   "metadata": {},
   "outputs": [
    {
     "data": {
      "text/plain": [
       "array([[  0.    ,   1.    ,   0.255 ,   2.    ],\n",
       "       [ 11.    ,  12.    ,   0.9621,   2.    ],\n",
       "       [  9.    ,  10.    ,   1.4   ,   2.    ],\n",
       "       [ 13.    ,  33.    ,   1.9103,   3.    ],\n",
       "       [ 17.    ,  25.    ,   5.1157,   2.    ],\n",
       "       [ 20.    ,  26.    ,   7.5097,   2.    ],\n",
       "       [  6.    ,  23.    ,  10.0535,   2.    ],\n",
       "       [ 19.    ,  36.    ,  10.1666,   3.    ],\n",
       "       [ 21.    ,  22.    ,  14.0035,   2.    ],\n",
       "       [  2.    ,  37.    ,  14.1771,   3.    ],\n",
       "       [ 14.    ,  15.    ,  15.6215,   2.    ],\n",
       "       [ 18.    ,  39.    ,  16.7875,   4.    ],\n",
       "       [ 31.    ,  41.    ,  19.8678,   4.    ],\n",
       "       [ 32.    ,  34.    ,  21.6097,   4.    ],\n",
       "       [ 28.    ,  38.    ,  22.5473,   3.    ],\n",
       "       [  8.    ,  44.    ,  29.8447,   5.    ],\n",
       "       [  3.    ,   5.    ,  33.5403,   2.    ],\n",
       "       [ 16.    ,  42.    ,  38.201 ,   3.    ],\n",
       "       [  4.    ,  24.    ,  40.0052,   2.    ],\n",
       "       [ 27.    ,  47.    ,  41.616 ,   6.    ],\n",
       "       [  7.    ,  51.    ,  62.3703,   7.    ],\n",
       "       [ 35.    ,  40.    ,  71.6674,   5.    ],\n",
       "       [ 29.    ,  45.    ,  77.7256,   5.    ],\n",
       "       [ 30.    ,  46.    , 121.0837,   4.    ],\n",
       "       [ 52.    ,  54.    , 124.075 ,  12.    ],\n",
       "       [ 48.    ,  53.    , 131.1017,   7.    ],\n",
       "       [ 49.    ,  50.    , 136.5584,   5.    ],\n",
       "       [ 43.    ,  56.    , 189.6827,  16.    ],\n",
       "       [ 55.    ,  58.    , 236.6445,   9.    ],\n",
       "       [ 57.    ,  60.    , 388.9698,  16.    ],\n",
       "       [ 59.    ,  61.    , 955.2508,  32.    ]])"
      ]
     },
     "execution_count": 9,
     "metadata": {},
     "output_type": "execute_result"
    }
   ],
   "source": [
    "Z"
   ]
  },
  {
   "cell_type": "code",
   "execution_count": 10,
   "metadata": {},
   "outputs": [
    {
     "data": {
      "image/png": "[encoded data removed]",
      "text/plain": [
       "<Figure size 432x288 with 1 Axes>"
      ]
     },
     "metadata": {},
     "output_type": "display_data"
    }
   ],
   "source": [
    "dendrogram(Z, truncate_mode='lastp', p=12, leaf_rotation=45., leaf_font_size=15, show_contracted=True)\n",
    "\n",
    "plt.title('Truncated Hierarchial Clustering Diagram')\n",
    "plt.xlabel('Cluster Size')\n",
    "plt.ylabel('Distance')\n",
    "\n",
    "plt.axhline(y=500)\n",
    "plt.axhline(y=150)\n",
    "plt.show()"
   ]
  },
  {
   "cell_type": "code",
   "execution_count": 15,
   "metadata": {},
   "outputs": [
    {
     "data": {
      "image/png": "[encoded data removed]",
      "text/plain": [
       "<Figure size 1440x720 with 1 Axes>"
      ]
     },
     "metadata": {},
     "output_type": "display_data"
    }
   ],
   "source": [
    "plt.figure(figsize=(20,10))\n",
    "dendrogram(Z, p=6)\n",
    "\n",
    "plt.title(' Hierarchial Clustering Diagram')\n",
    "plt.xlabel('Cluster Size')\n",
    "plt.ylabel('Distance')\n",
    "\n",
    "plt.axhline(y=500)\n",
    "plt.axhline(y=150)\n",
    "plt.show()"
   ]
  },
  {
   "cell_type": "markdown",
   "metadata": {},
   "source": [
    "## Generating hierarchical clusters"
   ]
  },
  {
   "cell_type": "code",
   "execution_count": 16,
   "metadata": {},
   "outputs": [
    {
     "data": {
      "text/plain": [
       "0.78125"
      ]
     },
     "execution_count": 16,
     "metadata": {},
     "output_type": "execute_result"
    }
   ],
   "source": [
    "k=2\n",
    "\n",
    "Hclustering = AgglomerativeClustering(n_clusters=k, affinity='euclidean', linkage='ward')\n",
    "Hclustering.fit(X)\n",
    "\n",
    "sm.accuracy_score(y, Hclustering.labels_)"
   ]
  },
  {
   "cell_type": "code",
   "execution_count": 17,
   "metadata": {},
   "outputs": [
    {
     "data": {
      "text/plain": [
       "0.78125"
      ]
     },
     "execution_count": 17,
     "metadata": {},
     "output_type": "execute_result"
    }
   ],
   "source": [
    "Hclustering = AgglomerativeClustering(n_clusters=k, affinity='euclidean', linkage='average')\n",
    "Hclustering.fit(X)\n",
    "\n",
    "sm.accuracy_score(y, Hclustering.labels_)"
   ]
  },
  {
   "cell_type": "code",
   "execution_count": 18,
   "metadata": {},
   "outputs": [
    {
     "data": {
      "text/plain": [
       "0.71875"
      ]
     },
     "execution_count": 18,
     "metadata": {},
     "output_type": "execute_result"
    }
   ],
   "source": [
    "Hclustering = AgglomerativeClustering(n_clusters=k, affinity='manhattan', linkage='average')\n",
    "Hclustering.fit(X)\n",
    "\n",
    "sm.accuracy_score(y, Hclustering.labels_)"
   ]
  },
  {
   "cell_type": "code",
   "execution_count": null,
   "metadata": {},
   "outputs": [],
   "source": []
  }
 ],
 "metadata": {
  "anaconda-cloud": {},
  "kernelspec": {
   "display_name": "Python 3",
   "language": "python",
   "name": "python3"
  },
  "language_info": {
   "codemirror_mode": {
    "name": "ipython",
    "version": 3
   },
   "file_extension": ".py",
   "mimetype": "text/x-python",
   "name": "python",
   "nbconvert_exporter": "python",
   "pygments_lexer": "ipython3",
   "version": "3.8.5"
  }
 },
 "nbformat": 4,
 "nbformat_minor": 1
}
