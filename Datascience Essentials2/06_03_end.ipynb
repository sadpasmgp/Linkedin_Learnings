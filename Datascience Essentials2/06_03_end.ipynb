{
 "cells": [
  {
   "cell_type": "markdown",
   "metadata": {
    "collapsed": true
   },
   "source": [
    "# Chapter 6 - Other Popular Machine Learning Models Models\n",
    "## Segment 3 - Instance-based learning w/ k-Nearest Neighbor\n",
    "#### Setting up for classification analysis"
   ]
  },
  {
   "cell_type": "code",
   "execution_count": 6,
   "metadata": {},
   "outputs": [],
   "source": [
    "import numpy as np\n",
    "import pandas as pd\n",
    "\n",
    "import scipy\n",
    "import urllib\n",
    "import sklearn\n",
    "\n",
    "import matplotlib.pyplot as plt\n",
    "from pylab import rcParams\n",
    "\n",
    "from sklearn import neighbors\n",
    "from sklearn import preprocessing\n",
    "from sklearn.model_selection import train_test_split\n",
    "from sklearn import metrics"
   ]
  },
  {
   "cell_type": "code",
   "execution_count": 7,
   "metadata": {},
   "outputs": [],
   "source": [
    "from sklearn.neighbors import KNeighborsClassifier"
   ]
  },
  {
   "cell_type": "code",
   "execution_count": 8,
   "metadata": {},
   "outputs": [],
   "source": [
    "np.set_printoptions(precision=4, suppress=True) \n",
    "%matplotlib inline\n",
    "rcParams['figure.figsize'] = 7, 4\n",
    "plt.style.use('seaborn-whitegrid')"
   ]
  },
  {
   "cell_type": "markdown",
   "metadata": {
    "collapsed": true
   },
   "source": [
    "## Importing your data"
   ]
  },
  {
   "cell_type": "code",
   "execution_count": 9,
   "metadata": {},
   "outputs": [],
   "source": [
    "address = r'/home/sp/sp/Master Python for Datascience/10Python Datascience Essentials part2/Python Datascience Essentials2 Exercise Files/Data/mtcars.csv'\n",
    "\n",
    "cars = pd.read_csv(address)\n",
    "cars.columns = ['car_names','mpg','cyl','disp', 'hp', 'drat', 'wt', 'qsec', 'vs', 'am', 'gear', 'carb']\n",
    "\n",
    "X_prime = cars[['mpg', 'disp', 'hp', 'wt']].values\n",
    "y = cars.iloc[:,9].values"
   ]
  },
  {
   "cell_type": "code",
   "execution_count": 10,
   "metadata": {},
   "outputs": [],
   "source": [
    "X = preprocessing.scale(X_prime)"
   ]
  },
  {
   "cell_type": "code",
   "execution_count": 13,
   "metadata": {},
   "outputs": [
    {
     "data": {
      "text/plain": [
       "array([[ 21.   , 160.   , 110.   ,   2.62 ],\n",
       "       [ 21.   , 160.   , 110.   ,   2.875],\n",
       "       [ 22.8  , 108.   ,  93.   ,   2.32 ],\n",
       "       [ 21.4  , 258.   , 110.   ,   3.215],\n",
       "       [ 18.7  , 360.   , 175.   ,   3.44 ],\n",
       "       [ 18.1  , 225.   , 105.   ,   3.46 ],\n",
       "       [ 14.3  , 360.   , 245.   ,   3.57 ],\n",
       "       [ 24.4  , 146.7  ,  62.   ,   3.19 ],\n",
       "       [ 22.8  , 140.8  ,  95.   ,   3.15 ],\n",
       "       [ 19.2  , 167.6  , 123.   ,   3.44 ],\n",
       "       [ 17.8  , 167.6  , 123.   ,   3.44 ],\n",
       "       [ 16.4  , 275.8  , 180.   ,   4.07 ],\n",
       "       [ 17.3  , 275.8  , 180.   ,   3.73 ],\n",
       "       [ 15.2  , 275.8  , 180.   ,   3.78 ],\n",
       "       [ 10.4  , 472.   , 205.   ,   5.25 ],\n",
       "       [ 10.4  , 460.   , 215.   ,   5.424],\n",
       "       [ 14.7  , 440.   , 230.   ,   5.345],\n",
       "       [ 32.4  ,  78.7  ,  66.   ,   2.2  ],\n",
       "       [ 30.4  ,  75.7  ,  52.   ,   1.615],\n",
       "       [ 33.9  ,  71.1  ,  65.   ,   1.835],\n",
       "       [ 21.5  , 120.1  ,  97.   ,   2.465],\n",
       "       [ 15.5  , 318.   , 150.   ,   3.52 ],\n",
       "       [ 15.2  , 304.   , 150.   ,   3.435],\n",
       "       [ 13.3  , 350.   , 245.   ,   3.84 ],\n",
       "       [ 19.2  , 400.   , 175.   ,   3.845],\n",
       "       [ 27.3  ,  79.   ,  66.   ,   1.935],\n",
       "       [ 26.   , 120.3  ,  91.   ,   2.14 ],\n",
       "       [ 30.4  ,  95.1  , 113.   ,   1.513],\n",
       "       [ 15.8  , 351.   , 264.   ,   3.17 ],\n",
       "       [ 19.7  , 145.   , 175.   ,   2.77 ],\n",
       "       [ 15.   , 301.   , 335.   ,   3.57 ],\n",
       "       [ 21.4  , 121.   , 109.   ,   2.78 ]])"
      ]
     },
     "execution_count": 13,
     "metadata": {},
     "output_type": "execute_result"
    }
   ],
   "source": [
    "X_prime"
   ]
  },
  {
   "cell_type": "code",
   "execution_count": 14,
   "metadata": {},
   "outputs": [
    {
     "data": {
      "text/plain": [
       "array([1, 1, 1, 0, 0, 0, 0, 0, 0, 0, 0, 0, 0, 0, 0, 0, 0, 1, 1, 1, 0, 0,\n",
       "       0, 0, 0, 1, 1, 1, 1, 1, 1, 1])"
      ]
     },
     "execution_count": 14,
     "metadata": {},
     "output_type": "execute_result"
    }
   ],
   "source": [
    "y"
   ]
  },
  {
   "cell_type": "code",
   "execution_count": 11,
   "metadata": {},
   "outputs": [],
   "source": [
    "X_train, X_test, y_train, y_test =train_test_split(X, y, test_size=.2, random_state=17)"
   ]
  },
  {
   "cell_type": "code",
   "execution_count": 15,
   "metadata": {},
   "outputs": [
    {
     "data": {
      "text/plain": [
       "array([[ 2.3279, -1.3085, -1.2105, -1.4353],\n",
       "       [ 0.9962, -0.9052, -0.8252, -1.1186],\n",
       "       [-0.7233,  0.986 ,  1.7384, -0.0491],\n",
       "       [ 0.2207,  0.2236, -0.5437, -0.0023],\n",
       "       [ 0.4567, -1.006 , -0.7956, -0.9317],\n",
       "       [-0.3861, -0.5174, -0.351 ,  0.2313],\n",
       "       [ 0.4567, -0.7371, -0.7659, -0.0698],\n",
       "       [-0.1501, -0.5174, -0.351 ,  0.2313],\n",
       "       [-0.8582,  0.5761,  2.7905,  0.3663],\n",
       "       [-1.6336,  1.9779,  0.8641,  2.1107],\n",
       "       [ 0.1533, -0.5798, -0.5437, -0.3554],\n",
       "       [-0.7739,  0.7155,  0.0491,  0.3144],\n",
       "       [-0.4704,  0.3695,  0.4936,  0.5324],\n",
       "       [ 0.2376, -0.9068, -0.7363, -0.7811],\n",
       "       [ 0.7265, -0.6888, -1.2549, -0.0283],\n",
       "       [-0.2344,  1.0598,  0.4195,  0.2313],\n",
       "       [ 1.7379, -1.1118, -0.4992, -1.7696],\n",
       "       [-0.8244,  0.3695,  0.4936,  0.5843],\n",
       "       [-0.9087,  1.7156,  1.2346,  2.2094],\n",
       "       [ 1.2153, -1.2438, -1.1957, -1.3315],\n",
       "       [-0.8244,  0.6007,  0.0491,  0.2261],\n",
       "       [-0.9762,  1.0598,  1.4568,  0.3663],\n",
       "       [ 0.2207, -0.8995, -0.5585, -0.454 ],\n",
       "       [ 2.0751, -1.2462, -1.1957, -1.0563],\n",
       "       [-1.6336,  1.8795,  1.0123,  2.2914]])"
      ]
     },
     "execution_count": 15,
     "metadata": {},
     "output_type": "execute_result"
    }
   ],
   "source": [
    "X_train"
   ]
  },
  {
   "cell_type": "code",
   "execution_count": 16,
   "metadata": {},
   "outputs": [
    {
     "data": {
      "text/plain": [
       "array([1, 1, 1, 0, 1, 0, 0, 0, 1, 0, 1, 0, 0, 0, 0, 0, 1, 0, 0, 1, 0, 0,\n",
       "       1, 1, 0])"
      ]
     },
     "execution_count": 16,
     "metadata": {},
     "output_type": "execute_result"
    }
   ],
   "source": [
    "y_train"
   ]
  },
  {
   "cell_type": "code",
   "execution_count": 17,
   "metadata": {},
   "outputs": [
    {
     "data": {
      "text/plain": [
       "array([[ 0.1533, -0.5798, -0.5437, -0.6202],\n",
       "       [ 1.7379, -1.2708, -1.4031, -1.6637],\n",
       "       [-1.1447,  0.9778,  1.4568,  0.6466],\n",
       "       [-0.6222,  0.3695,  0.4936,  0.8855],\n",
       "       [-0.3356, -0.0469, -0.6177,  0.2521],\n",
       "       [-0.1501,  1.3877,  0.4195,  0.6518],\n",
       "       [-0.0659, -0.7027,  0.4195, -0.4644]])"
      ]
     },
     "execution_count": 17,
     "metadata": {},
     "output_type": "execute_result"
    }
   ],
   "source": [
    "X_test"
   ]
  },
  {
   "cell_type": "code",
   "execution_count": 18,
   "metadata": {},
   "outputs": [
    {
     "data": {
      "text/plain": [
       "array([1, 1, 0, 0, 0, 0, 1])"
      ]
     },
     "execution_count": 18,
     "metadata": {},
     "output_type": "execute_result"
    }
   ],
   "source": [
    "y_test"
   ]
  },
  {
   "cell_type": "markdown",
   "metadata": {},
   "source": [
    "## Building and training your model with training data"
   ]
  },
  {
   "cell_type": "code",
   "execution_count": 19,
   "metadata": {},
   "outputs": [
    {
     "name": "stdout",
     "output_type": "stream",
     "text": [
      "KNeighborsClassifier()\n"
     ]
    }
   ],
   "source": [
    "clf = neighbors.KNeighborsClassifier()\n",
    "clf.fit(X_train, y_train)\n",
    "print(clf)"
   ]
  },
  {
   "cell_type": "markdown",
   "metadata": {},
   "source": [
    "## Evaluating your model's predictions"
   ]
  },
  {
   "cell_type": "code",
   "execution_count": 20,
   "metadata": {},
   "outputs": [
    {
     "name": "stdout",
     "output_type": "stream",
     "text": [
      "              precision    recall  f1-score   support\n",
      "\n",
      "           0       0.80      1.00      0.89         4\n",
      "           1       1.00      0.67      0.80         3\n",
      "\n",
      "    accuracy                           0.86         7\n",
      "   macro avg       0.90      0.83      0.84         7\n",
      "weighted avg       0.89      0.86      0.85         7\n",
      "\n"
     ]
    }
   ],
   "source": [
    "y_pred= clf.predict(X_test)\n",
    "y_expect = y_test\n",
    "\n",
    "print(metrics.classification_report(y_expect, y_pred))"
   ]
  },
  {
   "cell_type": "code",
   "execution_count": 21,
   "metadata": {},
   "outputs": [
    {
     "data": {
      "text/plain": [
       "array([1, 1, 0, 0, 0, 0, 0])"
      ]
     },
     "execution_count": 21,
     "metadata": {},
     "output_type": "execute_result"
    }
   ],
   "source": [
    "y_pred"
   ]
  }
 ],
 "metadata": {
  "kernelspec": {
   "display_name": "Python 3",
   "language": "python",
   "name": "python3"
  },
  "language_info": {
   "codemirror_mode": {
    "name": "ipython",
    "version": 3
   },
   "file_extension": ".py",
   "mimetype": "text/x-python",
   "name": "python",
   "nbconvert_exporter": "python",
   "pygments_lexer": "ipython3",
   "version": "3.8.5"
  }
 },
 "nbformat": 4,
 "nbformat_minor": 1
}
