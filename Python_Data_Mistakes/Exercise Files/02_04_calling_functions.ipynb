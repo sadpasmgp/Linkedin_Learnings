{
 "cells": [
  {
   "cell_type": "code",
   "execution_count": null,
   "metadata": {},
   "outputs": [],
   "source": [
    "# import relevant libraries and modules\n",
    "import math"
   ]
  },
  {
   "cell_type": "code",
   "execution_count": null,
   "metadata": {},
   "outputs": [],
   "source": [
    "# save location of hospital as a tuple in a variable\n",
    "hospital_loc = (28, 3)\n",
    "\n",
    "# save location of school as a tuple in a variable\n",
    "school_loc = (5, 1)\n",
    "\n",
    "# save location of fire department as a tuple in a variable\n",
    "fire_dept_loc = (17, 9)\n",
    "\n",
    "def euclidean_dist(location1, location2):\n",
    "    \"\"\"Compute euclidean distance between location1 and location2 and return result\"\"\"\n",
    "    x1, y1 = location1\n",
    "    x2, y2 = location2\n",
    "    return math.sqrt((x2 - x1)**2 + (y2 - y2)**2)\n",
    "\n",
    "# compute euclidean distance between hospital and school\n",
    "print(euclidean_dist(hospital_loc, school_loc))\n",
    "\n",
    "# compute euclidean distance between school and fire department\n",
    "print(euclidean_dist(school_loc, fire_dept_loc))\n",
    "\n",
    "# compute euclidean distance between fire department and hospital\n",
    "print(euclidean_dist(fire_dept_loc, hospital_loc))"
   ]
  },
  {
   "cell_type": "code",
   "execution_count": null,
   "metadata": {},
   "outputs": [],
   "source": []
  }
 ],
 "metadata": {
  "kernelspec": {
   "display_name": "Python 3",
   "language": "python",
   "name": "python3"
  },
  "language_info": {
   "codemirror_mode": {
    "name": "ipython",
    "version": 3
   },
   "file_extension": ".py",
   "mimetype": "text/x-python",
   "name": "python",
   "nbconvert_exporter": "python",
   "pygments_lexer": "ipython3",
   "version": "3.6.9"
  }
 },
 "nbformat": 4,
 "nbformat_minor": 4
}
