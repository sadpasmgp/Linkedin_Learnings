{
 "cells": [
  {
   "cell_type": "code",
   "execution_count": null,
   "metadata": {},
   "outputs": [],
   "source": [
    "# import relevant libraries and modules\n",
    "import random"
   ]
  },
  {
   "cell_type": "code",
   "execution_count": null,
   "metadata": {},
   "outputs": [],
   "source": [
    "def getWidth():\n",
    "    \"\"\"Generate width randomly (in feet) and return\"\"\"\n",
    "    return random.randint(3, 11)\n",
    "\n",
    "def getLength():\n",
    "    \"\"\"Get length (in feet) and return\"\"\"\n",
    "    return random.randint(5, 16)\n",
    "\n",
    "def rug_dim():\n",
    "    \"\"\"Select dimensions for rug (in feet) and display\"\"\"\n",
    "    width = getWidth()\n",
    "    length = getLength()\n",
    "    print(\"width of rug:\", width)\n",
    "    print(\"length of rug:\", length)\n",
    "    \n",
    "rug_dim()"
   ]
  },
  {
   "cell_type": "code",
   "execution_count": null,
   "metadata": {},
   "outputs": [],
   "source": []
  }
 ],
 "metadata": {
  "kernelspec": {
   "display_name": "Python 3",
   "language": "python",
   "name": "python3"
  },
  "language_info": {
   "codemirror_mode": {
    "name": "ipython",
    "version": 3
   },
   "file_extension": ".py",
   "mimetype": "text/x-python",
   "name": "python",
   "nbconvert_exporter": "python",
   "pygments_lexer": "ipython3",
   "version": "3.6.9"
  }
 },
 "nbformat": 4,
 "nbformat_minor": 4
}
