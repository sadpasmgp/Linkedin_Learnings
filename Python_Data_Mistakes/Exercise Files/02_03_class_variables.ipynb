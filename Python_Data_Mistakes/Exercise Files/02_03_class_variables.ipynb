{
 "cells": [
  {
   "cell_type": "code",
   "execution_count": 1,
   "metadata": {},
   "outputs": [],
   "source": [
    "class Player:\n",
    "    \n",
    "    # Initialize class variables \n",
    "    \n",
    "    # Initialize a word bank that all players have access to\n",
    "    # Players cannot change this word bank\n",
    "    wordBank = ['treetop','automobile','garden', 'television', \n",
    "                'radio','cream','world', 'chandelier']\n",
    "    \n",
    "    # Constructor\n",
    "    def __init__(self, name, age):\n",
    "        \n",
    "        \"\"\"Initialize instance variables\"\"\"\n",
    "        \n",
    "        # player's age\n",
    "        self.age = age\n",
    "        \n",
    "        # player's name\n",
    "        self.name = name\n",
    "        \n",
    "        # Keep track of player's points\n",
    "        self.points = 0\n",
    "    \n",
    "        # Keep track of whether player is alive\n",
    "        self.alive = False\n",
    "        \n",
    "    def lose_points(self, num):\n",
    "        \n",
    "        \"\"\"Decrement this player's points by num.\"\"\"\n",
    "        \n",
    "        self.points -= num\n",
    "        \n",
    "    def gain_points(self, num):\n",
    "        \n",
    "        \"\"\"Increment this player's points by num.\"\"\"\n",
    "        \n",
    "        self.points += num"
   ]
  },
  {
   "cell_type": "code",
   "execution_count": 2,
   "metadata": {},
   "outputs": [
    {
     "name": "stdout",
     "output_type": "stream",
     "text": [
      "Nina 24 0\n",
      "Lisa 22 0\n",
      "Nina 24 0\n",
      "Nina 24 5\n",
      "Lisa 22 0\n"
     ]
    }
   ],
   "source": [
    "# create Player instance for nina\n",
    "nina = Player('Nina', 24)\n",
    "\n",
    "# display nina's name, age, points\n",
    "print(nina.name, nina.age, nina.points)\n",
    "\n",
    "# create Player instance for lisa\n",
    "lisa = Player('Lisa', 22)\n",
    "\n",
    "# display lisa's name, age, points\n",
    "print(lisa.name, lisa.age, lisa.points)\n",
    "\n",
    "# display nina's name, age, points\n",
    "print(nina.name, nina.age, nina.points)\n",
    "\n",
    "# nina gains 5 points\n",
    "nina.gain_points(5)\n",
    "\n",
    "# display nina's name, age, points\n",
    "print(nina.name, nina.age, nina.points)\n",
    "\n",
    "# display lisa's name, age, points\n",
    "print(lisa.name, lisa.age, lisa.points)"
   ]
  },
  {
   "cell_type": "code",
   "execution_count": null,
   "metadata": {},
   "outputs": [],
   "source": []
  }
 ],
 "metadata": {
  "kernelspec": {
   "display_name": "Python 3",
   "language": "python",
   "name": "python3"
  },
  "language_info": {
   "codemirror_mode": {
    "name": "ipython",
    "version": 3
   },
   "file_extension": ".py",
   "mimetype": "text/x-python",
   "name": "python",
   "nbconvert_exporter": "python",
   "pygments_lexer": "ipython3",
   "version": "3.7.3"
  }
 },
 "nbformat": 4,
 "nbformat_minor": 4
}
