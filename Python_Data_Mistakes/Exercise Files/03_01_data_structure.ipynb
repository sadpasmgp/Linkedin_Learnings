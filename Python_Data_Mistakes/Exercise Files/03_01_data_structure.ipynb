{
 "cells": [
  {
   "cell_type": "code",
   "execution_count": null,
   "metadata": {},
   "outputs": [],
   "source": [
    "# create a set containing the types of pets in household #1,\n",
    "# save in a variable\n",
    "pets_house1 = {'hamster', 'bird', 'dog', 'cat', 'snake', 'bunny', 'guinuea pig',\n",
    "               'horse', 'fish'}"
   ]
  },
  {
   "cell_type": "code",
   "execution_count": null,
   "metadata": {},
   "outputs": [],
   "source": [
    "if 'bunny' in pets_house1:\n",
    "    print('bunny in house #1')\n",
    "else:\n",
    "    print('no bunny in house #1')"
   ]
  },
  {
   "cell_type": "code",
   "execution_count": null,
   "metadata": {},
   "outputs": [],
   "source": [
    "if 'chameleon' in pets_house1:\n",
    "    print('chameleon in house #1')\n",
    "else:\n",
    "    print('no chameleon in house #1')"
   ]
  },
  {
   "cell_type": "code",
   "execution_count": null,
   "metadata": {},
   "outputs": [],
   "source": [
    "# create a list containing the things that have to be done in the order they should be done,\n",
    "# save in a variable\n",
    "to_do = ['check mail', 'deposit checks', 'pay rent', 'buy groceries', 'do meal prep',\n",
    "         'do laundry']"
   ]
  },
  {
   "cell_type": "code",
   "execution_count": null,
   "metadata": {},
   "outputs": [],
   "source": [
    "# task to complete first\n",
    "to_do[0]"
   ]
  },
  {
   "cell_type": "code",
   "execution_count": null,
   "metadata": {},
   "outputs": [],
   "source": [
    "# third task to complete\n",
    "to_do[2]"
   ]
  },
  {
   "cell_type": "code",
   "execution_count": null,
   "metadata": {},
   "outputs": [],
   "source": [
    "# last task to complete\n",
    "to_do[-1]"
   ]
  },
  {
   "cell_type": "code",
   "execution_count": null,
   "metadata": {},
   "outputs": [],
   "source": []
  }
 ],
 "metadata": {
  "kernelspec": {
   "display_name": "Python 3",
   "language": "python",
   "name": "python3"
  },
  "language_info": {
   "codemirror_mode": {
    "name": "ipython",
    "version": 3
   },
   "file_extension": ".py",
   "mimetype": "text/x-python",
   "name": "python",
   "nbconvert_exporter": "python",
   "pygments_lexer": "ipython3",
   "version": "3.6.9"
  }
 },
 "nbformat": 4,
 "nbformat_minor": 4
}
