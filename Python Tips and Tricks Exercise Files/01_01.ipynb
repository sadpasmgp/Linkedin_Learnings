{
 "cells": [
  {
   "cell_type": "code",
   "execution_count": 1,
   "metadata": {},
   "outputs": [],
   "source": [
    "import json"
   ]
  },
  {
   "cell_type": "code",
   "execution_count": 2,
   "metadata": {},
   "outputs": [],
   "source": [
    "# load json file from /data folder\n",
    "with open('data/monthlySalesbyCategoryMultiple.json') as json_data:\n",
    "    d = json.load(json_data)"
   ]
  },
  {
   "cell_type": "code",
   "execution_count": 3,
   "metadata": {},
   "outputs": [
    {
     "name": "stdout",
     "output_type": "stream",
     "text": [
      "{'contents': [{'category': 'Furniture',\n",
      "               'monthlySales': [{'month': 20130101, 'sales': 38},\n",
      "                                {'month': 20130201, 'sales': 35},\n",
      "                                {'month': 20130301, 'sales': 41},\n",
      "                                {'month': 20130401, 'sales': 55},\n",
      "                                {'month': 20130501, 'sales': 58},\n",
      "                                {'month': 20130601, 'sales': 66},\n",
      "                                {'month': 20130701, 'sales': 74},\n",
      "                                {'month': 20130801, 'sales': 78},\n",
      "                                {'month': 20130901, 'sales': 38},\n",
      "                                {'month': 20131001, 'sales': 30},\n",
      "                                {'month': 20131101, 'sales': 26},\n",
      "                                {'month': 20131201, 'sales': 29}],\n",
      "               'region': 'West'},\n",
      "              {'category': 'Technology',\n",
      "               'monthlySales': [{'month': 20130101, 'sales': 54},\n",
      "                                {'month': 20130201, 'sales': 66},\n",
      "                                {'month': 20130301, 'sales': 77},\n",
      "                                {'month': 20130401, 'sales': 70},\n",
      "                                {'month': 20130501, 'sales': 60},\n",
      "                                {'month': 20130601, 'sales': 63},\n",
      "                                {'month': 20130701, 'sales': 55},\n",
      "                                {'month': 20130801, 'sales': 47},\n",
      "                                {'month': 20130901, 'sales': 55},\n",
      "                                {'month': 20131001, 'sales': 30},\n",
      "                                {'month': 20131101, 'sales': 22},\n",
      "                                {'month': 20131201, 'sales': 77}],\n",
      "               'region': 'West'}]}\n"
     ]
    }
   ],
   "source": [
    "# see what the dictionary looks like\n",
    "from pprint import pprint as pp\n",
    "pp(d)"
   ]
  },
  {
   "cell_type": "code",
   "execution_count": 6,
   "metadata": {},
   "outputs": [
    {
     "name": "stdout",
     "output_type": "stream",
     "text": [
      "{'contents': [{'category': 'Furniture', 'region': 'West', 'monthlySales': [{'month': 20130101, 'sales': 38}, {'month': 20130201, 'sales': 35}, {'month': 20130301, 'sales': 41}, {'month': 20130401, 'sales': 55}, {'month': 20130501, 'sales': 58}, {'month': 20130601, 'sales': 66}, {'month': 20130701, 'sales': 74}, {'month': 20130801, 'sales': 78}, {'month': 20130901, 'sales': 38}, {'month': 20131001, 'sales': 30}, {'month': 20131101, 'sales': 26}, {'month': 20131201, 'sales': 29}]}, {'category': 'Technology', 'region': 'West', 'monthlySales': [{'month': 20130101, 'sales': 54}, {'month': 20130201, 'sales': 66}, {'month': 20130301, 'sales': 77}, {'month': 20130401, 'sales': 70}, {'month': 20130501, 'sales': 60}, {'month': 20130601, 'sales': 63}, {'month': 20130701, 'sales': 55}, {'month': 20130801, 'sales': 47}, {'month': 20130901, 'sales': 55}, {'month': 20131001, 'sales': 30}, {'month': 20131101, 'sales': 22}, {'month': 20131201, 'sales': 77}]}]}\n"
     ]
    }
   ],
   "source": [
    "print(d)"
   ]
  },
  {
   "cell_type": "code",
   "execution_count": 4,
   "metadata": {},
   "outputs": [
    {
     "name": "stdout",
     "output_type": "stream",
     "text": [
      "dict_keys(['contents'])\n"
     ]
    }
   ],
   "source": [
    "# print keys at the top level\n",
    "print(d.keys())"
   ]
  },
  {
   "cell_type": "code",
   "execution_count": 5,
   "metadata": {},
   "outputs": [
    {
     "name": "stdout",
     "output_type": "stream",
     "text": [
      "dict_keys(['contents'])\n"
     ]
    }
   ],
   "source": [
    "pp(d.keys())"
   ]
  },
  {
   "cell_type": "code",
   "execution_count": 7,
   "metadata": {},
   "outputs": [
    {
     "name": "stdout",
     "output_type": "stream",
     "text": [
      "dict_keys(['category', 'region', 'monthlySales'])\n",
      "dict_keys(['category', 'region', 'monthlySales'])\n"
     ]
    }
   ],
   "source": [
    "# print keys at the second level\n",
    "for a in d['contents']:\n",
    "    print(a.keys())"
   ]
  },
  {
   "cell_type": "code",
   "execution_count": 8,
   "metadata": {},
   "outputs": [
    {
     "name": "stdout",
     "output_type": "stream",
     "text": [
      "dict_keys(['month', 'sales'])\n",
      "dict_keys(['month', 'sales'])\n",
      "dict_keys(['month', 'sales'])\n",
      "dict_keys(['month', 'sales'])\n",
      "dict_keys(['month', 'sales'])\n",
      "dict_keys(['month', 'sales'])\n",
      "dict_keys(['month', 'sales'])\n",
      "dict_keys(['month', 'sales'])\n",
      "dict_keys(['month', 'sales'])\n",
      "dict_keys(['month', 'sales'])\n",
      "dict_keys(['month', 'sales'])\n",
      "dict_keys(['month', 'sales'])\n",
      "dict_keys(['month', 'sales'])\n",
      "dict_keys(['month', 'sales'])\n",
      "dict_keys(['month', 'sales'])\n",
      "dict_keys(['month', 'sales'])\n",
      "dict_keys(['month', 'sales'])\n",
      "dict_keys(['month', 'sales'])\n",
      "dict_keys(['month', 'sales'])\n",
      "dict_keys(['month', 'sales'])\n",
      "dict_keys(['month', 'sales'])\n",
      "dict_keys(['month', 'sales'])\n",
      "dict_keys(['month', 'sales'])\n",
      "dict_keys(['month', 'sales'])\n"
     ]
    }
   ],
   "source": [
    "# print keys at the third level\n",
    "for a in d['contents']:\n",
    "    for b in a['monthlySales']:\n",
    "        print(b.keys())"
   ]
  },
  {
   "cell_type": "code",
   "execution_count": 10,
   "metadata": {
    "scrolled": false
   },
   "outputs": [
    {
     "name": "stdout",
     "output_type": "stream",
     "text": [
      "[{'category': 'Furniture',\n",
      "  'monthlySales': [{'month': 20130101, 'sales': 38},\n",
      "                   {'month': 20130201, 'sales': 35},\n",
      "                   {'month': 20130301, 'sales': 41},\n",
      "                   {'month': 20130401, 'sales': 55},\n",
      "                   {'month': 20130501, 'sales': 58},\n",
      "                   {'month': 20130601, 'sales': 66},\n",
      "                   {'month': 20130701, 'sales': 74},\n",
      "                   {'month': 20130801, 'sales': 78},\n",
      "                   {'month': 20130901, 'sales': 38},\n",
      "                   {'month': 20131001, 'sales': 30},\n",
      "                   {'month': 20131101, 'sales': 26},\n",
      "                   {'month': 20131201, 'sales': 29}],\n",
      "  'region': 'West'},\n",
      " {'category': 'Technology',\n",
      "  'monthlySales': [{'month': 20130101, 'sales': 54},\n",
      "                   {'month': 20130201, 'sales': 66},\n",
      "                   {'month': 20130301, 'sales': 77},\n",
      "                   {'month': 20130401, 'sales': 70},\n",
      "                   {'month': 20130501, 'sales': 60},\n",
      "                   {'month': 20130601, 'sales': 63},\n",
      "                   {'month': 20130701, 'sales': 55},\n",
      "                   {'month': 20130801, 'sales': 47},\n",
      "                   {'month': 20130901, 'sales': 55},\n",
      "                   {'month': 20131001, 'sales': 30},\n",
      "                   {'month': 20131101, 'sales': 22},\n",
      "                   {'month': 20131201, 'sales': 77}],\n",
      "  'region': 'West'}]\n",
      "contents:  None\n"
     ]
    }
   ],
   "source": [
    "# print the keys and values at the first level\n",
    "for key, value in d.items():\n",
    "    print(key + ': ', pp(value))"
   ]
  },
  {
   "cell_type": "code",
   "execution_count": 13,
   "metadata": {},
   "outputs": [
    {
     "name": "stdout",
     "output_type": "stream",
     "text": [
      "'Furniture'\n",
      "category:  None\n",
      "'West'\n",
      "region:  None\n",
      "[{'month': 20130101, 'sales': 38},\n",
      " {'month': 20130201, 'sales': 35},\n",
      " {'month': 20130301, 'sales': 41},\n",
      " {'month': 20130401, 'sales': 55},\n",
      " {'month': 20130501, 'sales': 58},\n",
      " {'month': 20130601, 'sales': 66},\n",
      " {'month': 20130701, 'sales': 74},\n",
      " {'month': 20130801, 'sales': 78},\n",
      " {'month': 20130901, 'sales': 38},\n",
      " {'month': 20131001, 'sales': 30},\n",
      " {'month': 20131101, 'sales': 26},\n",
      " {'month': 20131201, 'sales': 29}]\n",
      "monthlySales:  None\n",
      "'Technology'\n",
      "category:  None\n",
      "'West'\n",
      "region:  None\n",
      "[{'month': 20130101, 'sales': 54},\n",
      " {'month': 20130201, 'sales': 66},\n",
      " {'month': 20130301, 'sales': 77},\n",
      " {'month': 20130401, 'sales': 70},\n",
      " {'month': 20130501, 'sales': 60},\n",
      " {'month': 20130601, 'sales': 63},\n",
      " {'month': 20130701, 'sales': 55},\n",
      " {'month': 20130801, 'sales': 47},\n",
      " {'month': 20130901, 'sales': 55},\n",
      " {'month': 20131001, 'sales': 30},\n",
      " {'month': 20131101, 'sales': 22},\n",
      " {'month': 20131201, 'sales': 77}]\n",
      "monthlySales:  None\n"
     ]
    }
   ],
   "source": [
    "# print the keys and values at the second level\n",
    "for a in d['contents']:\n",
    "    for key, value in a.items():\n",
    "        print(key + ': ', pp(value) )   "
   ]
  },
  {
   "cell_type": "code",
   "execution_count": 14,
   "metadata": {},
   "outputs": [
    {
     "name": "stdout",
     "output_type": "stream",
     "text": [
      "20130101\n",
      "month:  None\n",
      "38\n",
      "sales:  None\n",
      "20130201\n",
      "month:  None\n",
      "35\n",
      "sales:  None\n",
      "20130301\n",
      "month:  None\n",
      "41\n",
      "sales:  None\n",
      "20130401\n",
      "month:  None\n",
      "55\n",
      "sales:  None\n",
      "20130501\n",
      "month:  None\n",
      "58\n",
      "sales:  None\n",
      "20130601\n",
      "month:  None\n",
      "66\n",
      "sales:  None\n",
      "20130701\n",
      "month:  None\n",
      "74\n",
      "sales:  None\n",
      "20130801\n",
      "month:  None\n",
      "78\n",
      "sales:  None\n",
      "20130901\n",
      "month:  None\n",
      "38\n",
      "sales:  None\n",
      "20131001\n",
      "month:  None\n",
      "30\n",
      "sales:  None\n",
      "20131101\n",
      "month:  None\n",
      "26\n",
      "sales:  None\n",
      "20131201\n",
      "month:  None\n",
      "29\n",
      "sales:  None\n",
      "20130101\n",
      "month:  None\n",
      "54\n",
      "sales:  None\n",
      "20130201\n",
      "month:  None\n",
      "66\n",
      "sales:  None\n",
      "20130301\n",
      "month:  None\n",
      "77\n",
      "sales:  None\n",
      "20130401\n",
      "month:  None\n",
      "70\n",
      "sales:  None\n",
      "20130501\n",
      "month:  None\n",
      "60\n",
      "sales:  None\n",
      "20130601\n",
      "month:  None\n",
      "63\n",
      "sales:  None\n",
      "20130701\n",
      "month:  None\n",
      "55\n",
      "sales:  None\n",
      "20130801\n",
      "month:  None\n",
      "47\n",
      "sales:  None\n",
      "20130901\n",
      "month:  None\n",
      "55\n",
      "sales:  None\n",
      "20131001\n",
      "month:  None\n",
      "30\n",
      "sales:  None\n",
      "20131101\n",
      "month:  None\n",
      "22\n",
      "sales:  None\n",
      "20131201\n",
      "month:  None\n",
      "77\n",
      "sales:  None\n"
     ]
    }
   ],
   "source": [
    "# print the keys and values at the third level\n",
    "for a in d['contents']:\n",
    "    for b in a['monthlySales']:\n",
    "        for key, value in b.items():\n",
    "            print(key + \": \", pp(value))"
   ]
  },
  {
   "cell_type": "code",
   "execution_count": null,
   "metadata": {
    "collapsed": true
   },
   "outputs": [],
   "source": []
  }
 ],
 "metadata": {
  "kernelspec": {
   "display_name": "Python 3",
   "language": "python",
   "name": "python3"
  },
  "language_info": {
   "codemirror_mode": {
    "name": "ipython",
    "version": 3
   },
   "file_extension": ".py",
   "mimetype": "text/x-python",
   "name": "python",
   "nbconvert_exporter": "python",
   "pygments_lexer": "ipython3",
   "version": "3.8.3"
  }
 },
 "nbformat": 4,
 "nbformat_minor": 2
}
