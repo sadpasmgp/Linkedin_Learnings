{
 "cells": [
  {
   "cell_type": "code",
   "execution_count": 1,
   "metadata": {},
   "outputs": [],
   "source": [
    "import requests\n",
    "response = requests.get('https://api.github.com/repos/bsullins/data/contents/monthlySalesbyCategoryMultiple.json')"
   ]
  },
  {
   "cell_type": "code",
   "execution_count": 12,
   "metadata": {},
   "outputs": [],
   "source": [
    "import json\n",
    "resp_json = json.loads(response.text)"
   ]
  },
  {
   "cell_type": "code",
   "execution_count": 15,
   "metadata": {
    "scrolled": true
   },
   "outputs": [
    {
     "data": {
      "text/plain": [
       "{'name': 'monthlySalesbyCategoryMultiple.json',\n",
       " 'path': 'monthlySalesbyCategoryMultiple.json',\n",
       " 'sha': '908f6d5411494915e948f145cb9fbb8bcae4f225',\n",
       " 'size': 1682,\n",
       " 'url': 'https://api.github.com/repos/bsullins/data/contents/monthlySalesbyCategoryMultiple.json?ref=master',\n",
       " 'html_url': 'https://github.com/bsullins/data/blob/master/monthlySalesbyCategoryMultiple.json',\n",
       " 'git_url': 'https://api.github.com/repos/bsullins/data/git/blobs/908f6d5411494915e948f145cb9fbb8bcae4f225',\n",
       " 'download_url': 'https://raw.githubusercontent.com/bsullins/data/master/monthlySalesbyCategoryMultiple.json',\n",
       " 'type': 'file',\n",
       " 'content': 'eyAiY29udGVudHMiOiBbCiAgewogICAgImNhdGVnb3J5IjogIkZ1cm5pdHVy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\\nIH0KICAgIF0KICB9Cl19IAo=\\n',\n",
       " 'encoding': 'base64',\n",
       " '_links': {'self': 'https://api.github.com/repos/bsullins/data/contents/monthlySalesbyCategoryMultiple.json?ref=master',\n",
       "  'git': 'https://api.github.com/repos/bsullins/data/git/blobs/908f6d5411494915e948f145cb9fbb8bcae4f225',\n",
       "  'html': 'https://github.com/bsullins/data/blob/master/monthlySalesbyCategoryMultiple.json'}}"
      ]
     },
     "execution_count": 15,
     "metadata": {},
     "output_type": "execute_result"
    }
   ],
   "source": [
    "resp_json"
   ]
  },
  {
   "cell_type": "code",
   "execution_count": 17,
   "metadata": {},
   "outputs": [],
   "source": [
    "import base64"
   ]
  },
  {
   "cell_type": "code",
   "execution_count": 16,
   "metadata": {},
   "outputs": [
    {
     "ename": "AttributeError",
     "evalue": "'str' object has no attribute 'decode'",
     "output_type": "error",
     "traceback": [
      "\u001b[1;31m---------------------------------------------------------------------------\u001b[0m",
      "\u001b[1;31mAttributeError\u001b[0m                            Traceback (most recent call last)",
      "\u001b[1;32m<ipython-input-16-630d817672c9>\u001b[0m in \u001b[0;36m<module>\u001b[1;34m\u001b[0m\n\u001b[1;32m----> 1\u001b[1;33m \u001b[0mval\u001b[0m \u001b[1;33m=\u001b[0m \u001b[0mjson\u001b[0m\u001b[1;33m.\u001b[0m\u001b[0mloads\u001b[0m\u001b[1;33m(\u001b[0m\u001b[0mresp_json\u001b[0m\u001b[1;33m[\u001b[0m\u001b[1;34m'content'\u001b[0m\u001b[1;33m]\u001b[0m\u001b[1;33m.\u001b[0m\u001b[0mdecode\u001b[0m\u001b[1;33m(\u001b[0m\u001b[1;34m'utf-8'\u001b[0m\u001b[1;33m)\u001b[0m\u001b[1;33m)\u001b[0m\u001b[1;33m\u001b[0m\u001b[1;33m\u001b[0m\u001b[0m\n\u001b[0m",
      "\u001b[1;31mAttributeError\u001b[0m: 'str' object has no attribute 'decode'"
     ]
    }
   ],
   "source": [
    "val = json.loads(resp_json['content'].decode('base64'))"
   ]
  },
  {
   "cell_type": "code",
   "execution_count": 14,
   "metadata": {},
   "outputs": [
    {
     "ename": "NameError",
     "evalue": "name 'val' is not defined",
     "output_type": "error",
     "traceback": [
      "\u001b[1;31m---------------------------------------------------------------------------\u001b[0m",
      "\u001b[1;31mNameError\u001b[0m                                 Traceback (most recent call last)",
      "\u001b[1;32m<ipython-input-14-8aa99b64e26d>\u001b[0m in \u001b[0;36m<module>\u001b[1;34m\u001b[0m\n\u001b[0;32m      1\u001b[0m \u001b[1;32mfrom\u001b[0m \u001b[0mpprint\u001b[0m \u001b[1;32mimport\u001b[0m \u001b[0mpprint\u001b[0m \u001b[1;32mas\u001b[0m \u001b[0mpp\u001b[0m\u001b[1;33m\u001b[0m\u001b[1;33m\u001b[0m\u001b[0m\n\u001b[1;32m----> 2\u001b[1;33m \u001b[0mpp\u001b[0m\u001b[1;33m(\u001b[0m\u001b[0mval\u001b[0m\u001b[1;33m)\u001b[0m\u001b[1;33m\u001b[0m\u001b[1;33m\u001b[0m\u001b[0m\n\u001b[0m",
      "\u001b[1;31mNameError\u001b[0m: name 'val' is not defined"
     ]
    }
   ],
   "source": [
    "from pprint import pprint as pp\n",
    "pp(val)"
   ]
  },
  {
   "cell_type": "code",
   "execution_count": null,
   "metadata": {},
   "outputs": [],
   "source": [
    "# print the keys and values at the third level\n",
    "for a in val['contents']:\n",
    "    for b in a['monthlySales']:\n",
    "        for key, value in b.items():\n",
    "            print key + \": \", value"
   ]
  },
  {
   "cell_type": "code",
   "execution_count": null,
   "metadata": {
    "collapsed": true
   },
   "outputs": [],
   "source": [
    "response = requests.get('https://api.github.com/repos/bsullins/data/contents/MonthlySales.csv')"
   ]
  },
  {
   "cell_type": "code",
   "execution_count": null,
   "metadata": {
    "collapsed": true
   },
   "outputs": [],
   "source": [
    "response_json = json.loads(response.text)"
   ]
  },
  {
   "cell_type": "code",
   "execution_count": null,
   "metadata": {
    "collapsed": true
   },
   "outputs": [],
   "source": [
    "csv_val = response_json['content'].decode('base64')"
   ]
  },
  {
   "cell_type": "code",
   "execution_count": null,
   "metadata": {
    "collapsed": true
   },
   "outputs": [],
   "source": [
    "# using csv.DictReader needs a filestream so we're making an String IO and passing a unicode string in\n",
    "# then reading the stream and adding each dictionary to the dictionary list\n",
    "import csv\n",
    "import io\n",
    "csv_dict = csv.DictReader(io.StringIO(unicode(csv_val)))\n",
    "dict_list = []\n",
    "for a in csv_dict:\n",
    "    dict_list.append(a)"
   ]
  },
  {
   "cell_type": "code",
   "execution_count": null,
   "metadata": {},
   "outputs": [],
   "source": [
    "for a in dict_list:\n",
    "    print a"
   ]
  },
  {
   "cell_type": "code",
   "execution_count": null,
   "metadata": {},
   "outputs": [],
   "source": [
    "#print keys and values\n",
    "for a in dict_list:\n",
    "    for key, value in a.items():\n",
    "        print key + \": \", value\n",
    "    print '\\n'"
   ]
  },
  {
   "cell_type": "code",
   "execution_count": null,
   "metadata": {
    "collapsed": true
   },
   "outputs": [],
   "source": []
  }
 ],
 "metadata": {
  "kernelspec": {
   "display_name": "Python 3",
   "language": "python",
   "name": "python3"
  },
  "language_info": {
   "codemirror_mode": {
    "name": "ipython",
    "version": 3
   },
   "file_extension": ".py",
   "mimetype": "text/x-python",
   "name": "python",
   "nbconvert_exporter": "python",
   "pygments_lexer": "ipython3",
   "version": "3.8.3"
  }
 },
 "nbformat": 4,
 "nbformat_minor": 2
}
