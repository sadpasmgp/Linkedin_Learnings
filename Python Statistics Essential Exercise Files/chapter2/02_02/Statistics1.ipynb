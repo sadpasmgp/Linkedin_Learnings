{
 "cells": [
  {
   "cell_type": "code",
   "execution_count": 4,
   "metadata": {},
   "outputs": [
    {
     "data": {
      "text/plain": [
       "'3.8.3 (default, Jul  2 2020, 17:30:36) [MSC v.1916 64 bit (AMD64)]'"
      ]
     },
     "execution_count": 4,
     "metadata": {},
     "output_type": "execute_result"
    }
   ],
   "source": [
    "import sys\n",
    "sys.version"
   ]
  },
  {
   "cell_type": "code",
   "execution_count": 6,
   "metadata": {},
   "outputs": [],
   "source": [
    "import numpy\n",
    "import scipy\n",
    "import matplotlib\n",
    "import pandas\n",
    "import statsmodels\n"
   ]
  },
  {
   "cell_type": "code",
   "execution_count": 8,
   "metadata": {},
   "outputs": [],
   "source": [
    "import pymc3"
   ]
  },
  {
   "cell_type": "code",
   "execution_count": 9,
   "metadata": {},
   "outputs": [
    {
     "data": {
      "text/plain": [
       "'1.18.5'"
      ]
     },
     "execution_count": 9,
     "metadata": {},
     "output_type": "execute_result"
    }
   ],
   "source": [
    "numpy.__version__"
   ]
  },
  {
   "cell_type": "code",
   "execution_count": 10,
   "metadata": {},
   "outputs": [
    {
     "data": {
      "text/plain": [
       "'1.0.5'"
      ]
     },
     "execution_count": 10,
     "metadata": {},
     "output_type": "execute_result"
    }
   ],
   "source": [
    "pandas.__version__"
   ]
  },
  {
   "cell_type": "code",
   "execution_count": 11,
   "metadata": {},
   "outputs": [
    {
     "data": {
      "text/plain": [
       "'1.5.0'"
      ]
     },
     "execution_count": 11,
     "metadata": {},
     "output_type": "execute_result"
    }
   ],
   "source": [
    "scipy.__version__"
   ]
  },
  {
   "cell_type": "code",
   "execution_count": 12,
   "metadata": {},
   "outputs": [
    {
     "data": {
      "text/plain": [
       "'3.2.2'"
      ]
     },
     "execution_count": 12,
     "metadata": {},
     "output_type": "execute_result"
    }
   ],
   "source": [
    "matplotlib.__version__"
   ]
  },
  {
   "cell_type": "code",
   "execution_count": 13,
   "metadata": {},
   "outputs": [
    {
     "data": {
      "text/plain": [
       "'0.11.1'"
      ]
     },
     "execution_count": 13,
     "metadata": {},
     "output_type": "execute_result"
    }
   ],
   "source": [
    "statsmodels.__version__"
   ]
  },
  {
   "cell_type": "code",
   "execution_count": 14,
   "metadata": {},
   "outputs": [
    {
     "data": {
      "text/plain": [
       "'3.9.3'"
      ]
     },
     "execution_count": 14,
     "metadata": {},
     "output_type": "execute_result"
    }
   ],
   "source": [
    "pymc3.__version__"
   ]
  },
  {
   "cell_type": "code",
   "execution_count": 15,
   "metadata": {},
   "outputs": [],
   "source": [
    "import collections"
   ]
  },
  {
   "cell_type": "code",
   "execution_count": 17,
   "metadata": {},
   "outputs": [],
   "source": [
    "import matplotlib.pyplot as plt"
   ]
  },
  {
   "cell_type": "code",
   "execution_count": 18,
   "metadata": {},
   "outputs": [],
   "source": [
    "planets = pandas.read_csv(r'Planets.csv')"
   ]
  },
  {
   "cell_type": "code",
   "execution_count": 19,
   "metadata": {},
   "outputs": [
    {
     "data": {
      "text/html": [
       "<div>\n",
       "<style scoped>\n",
       "    .dataframe tbody tr th:only-of-type {\n",
       "        vertical-align: middle;\n",
       "    }\n",
       "\n",
       "    .dataframe tbody tr th {\n",
       "        vertical-align: top;\n",
       "    }\n",
       "\n",
       "    .dataframe thead th {\n",
       "        text-align: right;\n",
       "    }\n",
       "</style>\n",
       "<table border=\"1\" class=\"dataframe\">\n",
       "  <thead>\n",
       "    <tr style=\"text-align: right;\">\n",
       "      <th></th>\n",
       "      <th>Planet</th>\n",
       "      <th>Mass</th>\n",
       "      <th>Diameter</th>\n",
       "      <th>DayLength</th>\n",
       "      <th>SunDistance</th>\n",
       "      <th>OrbitPeriod</th>\n",
       "      <th>OrbitVelocity</th>\n",
       "      <th>MeanTemperature</th>\n",
       "      <th>SurfacePressure</th>\n",
       "      <th>Moons</th>\n",
       "      <th>Rings</th>\n",
       "      <th>MagneticField</th>\n",
       "      <th>FirstVisited</th>\n",
       "      <th>FirstMission</th>\n",
       "    </tr>\n",
       "  </thead>\n",
       "  <tbody>\n",
       "    <tr>\n",
       "      <th>0</th>\n",
       "      <td>MERCURY</td>\n",
       "      <td>0.3300</td>\n",
       "      <td>4879</td>\n",
       "      <td>4222.6</td>\n",
       "      <td>57.9</td>\n",
       "      <td>88</td>\n",
       "      <td>47.4</td>\n",
       "      <td>167</td>\n",
       "      <td>0.00000</td>\n",
       "      <td>0</td>\n",
       "      <td>No</td>\n",
       "      <td>Yes</td>\n",
       "      <td>1974-03-29</td>\n",
       "      <td>Mariner 10</td>\n",
       "    </tr>\n",
       "    <tr>\n",
       "      <th>1</th>\n",
       "      <td>VENUS</td>\n",
       "      <td>4.8700</td>\n",
       "      <td>12,104</td>\n",
       "      <td>2802.0</td>\n",
       "      <td>108.2</td>\n",
       "      <td>224.7</td>\n",
       "      <td>35.0</td>\n",
       "      <td>464</td>\n",
       "      <td>92.00000</td>\n",
       "      <td>0</td>\n",
       "      <td>No</td>\n",
       "      <td>No</td>\n",
       "      <td>1962-08-27</td>\n",
       "      <td>Mariner 2</td>\n",
       "    </tr>\n",
       "    <tr>\n",
       "      <th>2</th>\n",
       "      <td>EARTH</td>\n",
       "      <td>5.9700</td>\n",
       "      <td>12,756</td>\n",
       "      <td>24.0</td>\n",
       "      <td>149.6</td>\n",
       "      <td>365.2</td>\n",
       "      <td>29.8</td>\n",
       "      <td>15</td>\n",
       "      <td>1.00000</td>\n",
       "      <td>1</td>\n",
       "      <td>No</td>\n",
       "      <td>Yes</td>\n",
       "      <td>NaN</td>\n",
       "      <td>NaN</td>\n",
       "    </tr>\n",
       "    <tr>\n",
       "      <th>3</th>\n",
       "      <td>MOON</td>\n",
       "      <td>0.0730</td>\n",
       "      <td>3475</td>\n",
       "      <td>708.7</td>\n",
       "      <td>NaN</td>\n",
       "      <td>27.3</td>\n",
       "      <td>1.0</td>\n",
       "      <td>-20</td>\n",
       "      <td>0.00000</td>\n",
       "      <td>0</td>\n",
       "      <td>No</td>\n",
       "      <td>No</td>\n",
       "      <td>1959-09-12</td>\n",
       "      <td>Luna 2</td>\n",
       "    </tr>\n",
       "    <tr>\n",
       "      <th>4</th>\n",
       "      <td>MARS</td>\n",
       "      <td>0.6420</td>\n",
       "      <td>6792</td>\n",
       "      <td>24.7</td>\n",
       "      <td>227.9</td>\n",
       "      <td>687</td>\n",
       "      <td>24.1</td>\n",
       "      <td>-65</td>\n",
       "      <td>0.01000</td>\n",
       "      <td>2</td>\n",
       "      <td>No</td>\n",
       "      <td>No</td>\n",
       "      <td>1965-07-15</td>\n",
       "      <td>Mariner 4</td>\n",
       "    </tr>\n",
       "    <tr>\n",
       "      <th>5</th>\n",
       "      <td>JUPITER</td>\n",
       "      <td>1898.0000</td>\n",
       "      <td>1,42,984</td>\n",
       "      <td>9.9</td>\n",
       "      <td>778.6</td>\n",
       "      <td>4331</td>\n",
       "      <td>13.1</td>\n",
       "      <td>-110</td>\n",
       "      <td>NaN</td>\n",
       "      <td>67</td>\n",
       "      <td>Yes</td>\n",
       "      <td>Yes</td>\n",
       "      <td>1973-12-04</td>\n",
       "      <td>Pioneer 10</td>\n",
       "    </tr>\n",
       "    <tr>\n",
       "      <th>6</th>\n",
       "      <td>SATURN</td>\n",
       "      <td>568.0000</td>\n",
       "      <td>1,20,536</td>\n",
       "      <td>10.7</td>\n",
       "      <td>1433.5</td>\n",
       "      <td>10,747</td>\n",
       "      <td>9.7</td>\n",
       "      <td>-140</td>\n",
       "      <td>NaN</td>\n",
       "      <td>62</td>\n",
       "      <td>Yes</td>\n",
       "      <td>Yes</td>\n",
       "      <td>1979-09-01</td>\n",
       "      <td>Pioneer 11</td>\n",
       "    </tr>\n",
       "    <tr>\n",
       "      <th>7</th>\n",
       "      <td>URANUS</td>\n",
       "      <td>86.8000</td>\n",
       "      <td>51,118</td>\n",
       "      <td>17.2</td>\n",
       "      <td>2872.5</td>\n",
       "      <td>30,589</td>\n",
       "      <td>6.8</td>\n",
       "      <td>-195</td>\n",
       "      <td>NaN</td>\n",
       "      <td>27</td>\n",
       "      <td>Yes</td>\n",
       "      <td>Yes</td>\n",
       "      <td>1986-01-24</td>\n",
       "      <td>Voyager 2</td>\n",
       "    </tr>\n",
       "    <tr>\n",
       "      <th>8</th>\n",
       "      <td>NEPTUNE</td>\n",
       "      <td>102.0000</td>\n",
       "      <td>49,528</td>\n",
       "      <td>16.1</td>\n",
       "      <td>4495.1</td>\n",
       "      <td>59,800</td>\n",
       "      <td>5.4</td>\n",
       "      <td>-200</td>\n",
       "      <td>NaN</td>\n",
       "      <td>14</td>\n",
       "      <td>Yes</td>\n",
       "      <td>Yes</td>\n",
       "      <td>1989-08-25</td>\n",
       "      <td>Voyager 2</td>\n",
       "    </tr>\n",
       "    <tr>\n",
       "      <th>9</th>\n",
       "      <td>PLUTO</td>\n",
       "      <td>0.0146</td>\n",
       "      <td>2370</td>\n",
       "      <td>153.3</td>\n",
       "      <td>5906.4</td>\n",
       "      <td>90,560</td>\n",
       "      <td>4.7</td>\n",
       "      <td>-225</td>\n",
       "      <td>0.00001</td>\n",
       "      <td>5</td>\n",
       "      <td>No</td>\n",
       "      <td>NaN</td>\n",
       "      <td>2015-07-14</td>\n",
       "      <td>New Horizons</td>\n",
       "    </tr>\n",
       "  </tbody>\n",
       "</table>\n",
       "</div>"
      ],
      "text/plain": [
       "    Planet       Mass  Diameter  DayLength  SunDistance OrbitPeriod  \\\n",
       "0  MERCURY     0.3300      4879     4222.6         57.9          88   \n",
       "1    VENUS     4.8700    12,104     2802.0        108.2       224.7   \n",
       "2    EARTH     5.9700    12,756       24.0        149.6       365.2   \n",
       "3     MOON     0.0730      3475      708.7          NaN        27.3   \n",
       "4     MARS     0.6420      6792       24.7        227.9         687   \n",
       "5  JUPITER  1898.0000  1,42,984        9.9        778.6        4331   \n",
       "6   SATURN   568.0000  1,20,536       10.7       1433.5      10,747   \n",
       "7   URANUS    86.8000    51,118       17.2       2872.5      30,589   \n",
       "8  NEPTUNE   102.0000    49,528       16.1       4495.1      59,800   \n",
       "9    PLUTO     0.0146      2370      153.3       5906.4      90,560   \n",
       "\n",
       "   OrbitVelocity  MeanTemperature  SurfacePressure  Moons Rings MagneticField  \\\n",
       "0           47.4              167          0.00000      0    No           Yes   \n",
       "1           35.0              464         92.00000      0    No            No   \n",
       "2           29.8               15          1.00000      1    No           Yes   \n",
       "3            1.0              -20          0.00000      0    No            No   \n",
       "4           24.1              -65          0.01000      2    No            No   \n",
       "5           13.1             -110              NaN     67   Yes           Yes   \n",
       "6            9.7             -140              NaN     62   Yes           Yes   \n",
       "7            6.8             -195              NaN     27   Yes           Yes   \n",
       "8            5.4             -200              NaN     14   Yes           Yes   \n",
       "9            4.7             -225          0.00001      5    No           NaN   \n",
       "\n",
       "  FirstVisited  FirstMission  \n",
       "0   1974-03-29    Mariner 10  \n",
       "1   1962-08-27     Mariner 2  \n",
       "2          NaN           NaN  \n",
       "3   1959-09-12        Luna 2  \n",
       "4   1965-07-15     Mariner 4  \n",
       "5   1973-12-04    Pioneer 10  \n",
       "6   1979-09-01    Pioneer 11  \n",
       "7   1986-01-24     Voyager 2  \n",
       "8   1989-08-25     Voyager 2  \n",
       "9   2015-07-14  New Horizons  "
      ]
     },
     "execution_count": 19,
     "metadata": {},
     "output_type": "execute_result"
    }
   ],
   "source": [
    "planets"
   ]
  },
  {
   "cell_type": "code",
   "execution_count": 20,
   "metadata": {},
   "outputs": [
    {
     "data": {
      "text/plain": [
       "0       0.3300\n",
       "1       4.8700\n",
       "2       5.9700\n",
       "3       0.0730\n",
       "4       0.6420\n",
       "5    1898.0000\n",
       "6     568.0000\n",
       "7      86.8000\n",
       "8     102.0000\n",
       "9       0.0146\n",
       "Name: Mass, dtype: float64"
      ]
     },
     "execution_count": 20,
     "metadata": {},
     "output_type": "execute_result"
    }
   ],
   "source": [
    "planets['Mass']"
   ]
  },
  {
   "cell_type": "code",
   "execution_count": 21,
   "metadata": {},
   "outputs": [
    {
     "data": {
      "text/plain": [
       "RangeIndex(start=0, stop=10, step=1)"
      ]
     },
     "execution_count": 21,
     "metadata": {},
     "output_type": "execute_result"
    }
   ],
   "source": [
    "planets.index"
   ]
  },
  {
   "cell_type": "code",
   "execution_count": 22,
   "metadata": {},
   "outputs": [
    {
     "data": {
      "text/plain": [
       "Planet                MERCURY\n",
       "Mass                     0.33\n",
       "Diameter                 4879\n",
       "DayLength              4222.6\n",
       "SunDistance              57.9\n",
       "OrbitPeriod                88\n",
       "OrbitVelocity            47.4\n",
       "MeanTemperature           167\n",
       "SurfacePressure             0\n",
       "Moons                       0\n",
       "Rings                      No\n",
       "MagneticField             Yes\n",
       "FirstVisited       1974-03-29\n",
       "FirstMission       Mariner 10\n",
       "Name: 0, dtype: object"
      ]
     },
     "execution_count": 22,
     "metadata": {},
     "output_type": "execute_result"
    }
   ],
   "source": [
    "planets.loc[0]"
   ]
  },
  {
   "cell_type": "code",
   "execution_count": 24,
   "metadata": {},
   "outputs": [
    {
     "data": {
      "text/html": [
       "<div>\n",
       "<style scoped>\n",
       "    .dataframe tbody tr th:only-of-type {\n",
       "        vertical-align: middle;\n",
       "    }\n",
       "\n",
       "    .dataframe tbody tr th {\n",
       "        vertical-align: top;\n",
       "    }\n",
       "\n",
       "    .dataframe thead th {\n",
       "        text-align: right;\n",
       "    }\n",
       "</style>\n",
       "<table border=\"1\" class=\"dataframe\">\n",
       "  <thead>\n",
       "    <tr style=\"text-align: right;\">\n",
       "      <th></th>\n",
       "      <th>Mass</th>\n",
       "      <th>Diameter</th>\n",
       "      <th>DayLength</th>\n",
       "      <th>SunDistance</th>\n",
       "      <th>OrbitPeriod</th>\n",
       "      <th>OrbitVelocity</th>\n",
       "      <th>MeanTemperature</th>\n",
       "      <th>SurfacePressure</th>\n",
       "      <th>Moons</th>\n",
       "      <th>Rings</th>\n",
       "      <th>MagneticField</th>\n",
       "      <th>FirstVisited</th>\n",
       "      <th>FirstMission</th>\n",
       "    </tr>\n",
       "    <tr>\n",
       "      <th>Planet</th>\n",
       "      <th></th>\n",
       "      <th></th>\n",
       "      <th></th>\n",
       "      <th></th>\n",
       "      <th></th>\n",
       "      <th></th>\n",
       "      <th></th>\n",
       "      <th></th>\n",
       "      <th></th>\n",
       "      <th></th>\n",
       "      <th></th>\n",
       "      <th></th>\n",
       "      <th></th>\n",
       "    </tr>\n",
       "  </thead>\n",
       "  <tbody>\n",
       "    <tr>\n",
       "      <th>MERCURY</th>\n",
       "      <td>0.3300</td>\n",
       "      <td>4879</td>\n",
       "      <td>4222.6</td>\n",
       "      <td>57.9</td>\n",
       "      <td>88</td>\n",
       "      <td>47.4</td>\n",
       "      <td>167</td>\n",
       "      <td>0.00000</td>\n",
       "      <td>0</td>\n",
       "      <td>No</td>\n",
       "      <td>Yes</td>\n",
       "      <td>1974-03-29</td>\n",
       "      <td>Mariner 10</td>\n",
       "    </tr>\n",
       "    <tr>\n",
       "      <th>VENUS</th>\n",
       "      <td>4.8700</td>\n",
       "      <td>12,104</td>\n",
       "      <td>2802.0</td>\n",
       "      <td>108.2</td>\n",
       "      <td>224.7</td>\n",
       "      <td>35.0</td>\n",
       "      <td>464</td>\n",
       "      <td>92.00000</td>\n",
       "      <td>0</td>\n",
       "      <td>No</td>\n",
       "      <td>No</td>\n",
       "      <td>1962-08-27</td>\n",
       "      <td>Mariner 2</td>\n",
       "    </tr>\n",
       "    <tr>\n",
       "      <th>EARTH</th>\n",
       "      <td>5.9700</td>\n",
       "      <td>12,756</td>\n",
       "      <td>24.0</td>\n",
       "      <td>149.6</td>\n",
       "      <td>365.2</td>\n",
       "      <td>29.8</td>\n",
       "      <td>15</td>\n",
       "      <td>1.00000</td>\n",
       "      <td>1</td>\n",
       "      <td>No</td>\n",
       "      <td>Yes</td>\n",
       "      <td>NaN</td>\n",
       "      <td>NaN</td>\n",
       "    </tr>\n",
       "    <tr>\n",
       "      <th>MOON</th>\n",
       "      <td>0.0730</td>\n",
       "      <td>3475</td>\n",
       "      <td>708.7</td>\n",
       "      <td>NaN</td>\n",
       "      <td>27.3</td>\n",
       "      <td>1.0</td>\n",
       "      <td>-20</td>\n",
       "      <td>0.00000</td>\n",
       "      <td>0</td>\n",
       "      <td>No</td>\n",
       "      <td>No</td>\n",
       "      <td>1959-09-12</td>\n",
       "      <td>Luna 2</td>\n",
       "    </tr>\n",
       "    <tr>\n",
       "      <th>MARS</th>\n",
       "      <td>0.6420</td>\n",
       "      <td>6792</td>\n",
       "      <td>24.7</td>\n",
       "      <td>227.9</td>\n",
       "      <td>687</td>\n",
       "      <td>24.1</td>\n",
       "      <td>-65</td>\n",
       "      <td>0.01000</td>\n",
       "      <td>2</td>\n",
       "      <td>No</td>\n",
       "      <td>No</td>\n",
       "      <td>1965-07-15</td>\n",
       "      <td>Mariner 4</td>\n",
       "    </tr>\n",
       "    <tr>\n",
       "      <th>JUPITER</th>\n",
       "      <td>1898.0000</td>\n",
       "      <td>1,42,984</td>\n",
       "      <td>9.9</td>\n",
       "      <td>778.6</td>\n",
       "      <td>4331</td>\n",
       "      <td>13.1</td>\n",
       "      <td>-110</td>\n",
       "      <td>NaN</td>\n",
       "      <td>67</td>\n",
       "      <td>Yes</td>\n",
       "      <td>Yes</td>\n",
       "      <td>1973-12-04</td>\n",
       "      <td>Pioneer 10</td>\n",
       "    </tr>\n",
       "    <tr>\n",
       "      <th>SATURN</th>\n",
       "      <td>568.0000</td>\n",
       "      <td>1,20,536</td>\n",
       "      <td>10.7</td>\n",
       "      <td>1433.5</td>\n",
       "      <td>10,747</td>\n",
       "      <td>9.7</td>\n",
       "      <td>-140</td>\n",
       "      <td>NaN</td>\n",
       "      <td>62</td>\n",
       "      <td>Yes</td>\n",
       "      <td>Yes</td>\n",
       "      <td>1979-09-01</td>\n",
       "      <td>Pioneer 11</td>\n",
       "    </tr>\n",
       "    <tr>\n",
       "      <th>URANUS</th>\n",
       "      <td>86.8000</td>\n",
       "      <td>51,118</td>\n",
       "      <td>17.2</td>\n",
       "      <td>2872.5</td>\n",
       "      <td>30,589</td>\n",
       "      <td>6.8</td>\n",
       "      <td>-195</td>\n",
       "      <td>NaN</td>\n",
       "      <td>27</td>\n",
       "      <td>Yes</td>\n",
       "      <td>Yes</td>\n",
       "      <td>1986-01-24</td>\n",
       "      <td>Voyager 2</td>\n",
       "    </tr>\n",
       "    <tr>\n",
       "      <th>NEPTUNE</th>\n",
       "      <td>102.0000</td>\n",
       "      <td>49,528</td>\n",
       "      <td>16.1</td>\n",
       "      <td>4495.1</td>\n",
       "      <td>59,800</td>\n",
       "      <td>5.4</td>\n",
       "      <td>-200</td>\n",
       "      <td>NaN</td>\n",
       "      <td>14</td>\n",
       "      <td>Yes</td>\n",
       "      <td>Yes</td>\n",
       "      <td>1989-08-25</td>\n",
       "      <td>Voyager 2</td>\n",
       "    </tr>\n",
       "    <tr>\n",
       "      <th>PLUTO</th>\n",
       "      <td>0.0146</td>\n",
       "      <td>2370</td>\n",
       "      <td>153.3</td>\n",
       "      <td>5906.4</td>\n",
       "      <td>90,560</td>\n",
       "      <td>4.7</td>\n",
       "      <td>-225</td>\n",
       "      <td>0.00001</td>\n",
       "      <td>5</td>\n",
       "      <td>No</td>\n",
       "      <td>NaN</td>\n",
       "      <td>2015-07-14</td>\n",
       "      <td>New Horizons</td>\n",
       "    </tr>\n",
       "  </tbody>\n",
       "</table>\n",
       "</div>"
      ],
      "text/plain": [
       "              Mass  Diameter  DayLength  SunDistance OrbitPeriod  \\\n",
       "Planet                                                             \n",
       "MERCURY     0.3300      4879     4222.6         57.9          88   \n",
       "VENUS       4.8700    12,104     2802.0        108.2       224.7   \n",
       "EARTH       5.9700    12,756       24.0        149.6       365.2   \n",
       "MOON        0.0730      3475      708.7          NaN        27.3   \n",
       "MARS        0.6420      6792       24.7        227.9         687   \n",
       "JUPITER  1898.0000  1,42,984        9.9        778.6        4331   \n",
       "SATURN    568.0000  1,20,536       10.7       1433.5      10,747   \n",
       "URANUS     86.8000    51,118       17.2       2872.5      30,589   \n",
       "NEPTUNE   102.0000    49,528       16.1       4495.1      59,800   \n",
       "PLUTO       0.0146      2370      153.3       5906.4      90,560   \n",
       "\n",
       "         OrbitVelocity  MeanTemperature  SurfacePressure  Moons Rings  \\\n",
       "Planet                                                                  \n",
       "MERCURY           47.4              167          0.00000      0    No   \n",
       "VENUS             35.0              464         92.00000      0    No   \n",
       "EARTH             29.8               15          1.00000      1    No   \n",
       "MOON               1.0              -20          0.00000      0    No   \n",
       "MARS              24.1              -65          0.01000      2    No   \n",
       "JUPITER           13.1             -110              NaN     67   Yes   \n",
       "SATURN             9.7             -140              NaN     62   Yes   \n",
       "URANUS             6.8             -195              NaN     27   Yes   \n",
       "NEPTUNE            5.4             -200              NaN     14   Yes   \n",
       "PLUTO              4.7             -225          0.00001      5    No   \n",
       "\n",
       "        MagneticField FirstVisited  FirstMission  \n",
       "Planet                                            \n",
       "MERCURY           Yes   1974-03-29    Mariner 10  \n",
       "VENUS              No   1962-08-27     Mariner 2  \n",
       "EARTH             Yes          NaN           NaN  \n",
       "MOON               No   1959-09-12        Luna 2  \n",
       "MARS               No   1965-07-15     Mariner 4  \n",
       "JUPITER           Yes   1973-12-04    Pioneer 10  \n",
       "SATURN            Yes   1979-09-01    Pioneer 11  \n",
       "URANUS            Yes   1986-01-24     Voyager 2  \n",
       "NEPTUNE           Yes   1989-08-25     Voyager 2  \n",
       "PLUTO             NaN   2015-07-14  New Horizons  "
      ]
     },
     "execution_count": 24,
     "metadata": {},
     "output_type": "execute_result"
    }
   ],
   "source": [
    "planets.set_index('Planet')"
   ]
  },
  {
   "cell_type": "code",
   "execution_count": 25,
   "metadata": {},
   "outputs": [
    {
     "data": {
      "text/html": [
       "<div>\n",
       "<style scoped>\n",
       "    .dataframe tbody tr th:only-of-type {\n",
       "        vertical-align: middle;\n",
       "    }\n",
       "\n",
       "    .dataframe tbody tr th {\n",
       "        vertical-align: top;\n",
       "    }\n",
       "\n",
       "    .dataframe thead th {\n",
       "        text-align: right;\n",
       "    }\n",
       "</style>\n",
       "<table border=\"1\" class=\"dataframe\">\n",
       "  <thead>\n",
       "    <tr style=\"text-align: right;\">\n",
       "      <th></th>\n",
       "      <th>Planet</th>\n",
       "      <th>Mass</th>\n",
       "      <th>Diameter</th>\n",
       "      <th>DayLength</th>\n",
       "      <th>SunDistance</th>\n",
       "      <th>OrbitPeriod</th>\n",
       "      <th>OrbitVelocity</th>\n",
       "      <th>MeanTemperature</th>\n",
       "      <th>SurfacePressure</th>\n",
       "      <th>Moons</th>\n",
       "      <th>Rings</th>\n",
       "      <th>MagneticField</th>\n",
       "      <th>FirstVisited</th>\n",
       "      <th>FirstMission</th>\n",
       "    </tr>\n",
       "  </thead>\n",
       "  <tbody>\n",
       "    <tr>\n",
       "      <th>0</th>\n",
       "      <td>MERCURY</td>\n",
       "      <td>0.3300</td>\n",
       "      <td>4879</td>\n",
       "      <td>4222.6</td>\n",
       "      <td>57.9</td>\n",
       "      <td>88</td>\n",
       "      <td>47.4</td>\n",
       "      <td>167</td>\n",
       "      <td>0.00000</td>\n",
       "      <td>0</td>\n",
       "      <td>No</td>\n",
       "      <td>Yes</td>\n",
       "      <td>1974-03-29</td>\n",
       "      <td>Mariner 10</td>\n",
       "    </tr>\n",
       "    <tr>\n",
       "      <th>1</th>\n",
       "      <td>VENUS</td>\n",
       "      <td>4.8700</td>\n",
       "      <td>12,104</td>\n",
       "      <td>2802.0</td>\n",
       "      <td>108.2</td>\n",
       "      <td>224.7</td>\n",
       "      <td>35.0</td>\n",
       "      <td>464</td>\n",
       "      <td>92.00000</td>\n",
       "      <td>0</td>\n",
       "      <td>No</td>\n",
       "      <td>No</td>\n",
       "      <td>1962-08-27</td>\n",
       "      <td>Mariner 2</td>\n",
       "    </tr>\n",
       "    <tr>\n",
       "      <th>2</th>\n",
       "      <td>EARTH</td>\n",
       "      <td>5.9700</td>\n",
       "      <td>12,756</td>\n",
       "      <td>24.0</td>\n",
       "      <td>149.6</td>\n",
       "      <td>365.2</td>\n",
       "      <td>29.8</td>\n",
       "      <td>15</td>\n",
       "      <td>1.00000</td>\n",
       "      <td>1</td>\n",
       "      <td>No</td>\n",
       "      <td>Yes</td>\n",
       "      <td>NaN</td>\n",
       "      <td>NaN</td>\n",
       "    </tr>\n",
       "    <tr>\n",
       "      <th>3</th>\n",
       "      <td>MOON</td>\n",
       "      <td>0.0730</td>\n",
       "      <td>3475</td>\n",
       "      <td>708.7</td>\n",
       "      <td>NaN</td>\n",
       "      <td>27.3</td>\n",
       "      <td>1.0</td>\n",
       "      <td>-20</td>\n",
       "      <td>0.00000</td>\n",
       "      <td>0</td>\n",
       "      <td>No</td>\n",
       "      <td>No</td>\n",
       "      <td>1959-09-12</td>\n",
       "      <td>Luna 2</td>\n",
       "    </tr>\n",
       "    <tr>\n",
       "      <th>4</th>\n",
       "      <td>MARS</td>\n",
       "      <td>0.6420</td>\n",
       "      <td>6792</td>\n",
       "      <td>24.7</td>\n",
       "      <td>227.9</td>\n",
       "      <td>687</td>\n",
       "      <td>24.1</td>\n",
       "      <td>-65</td>\n",
       "      <td>0.01000</td>\n",
       "      <td>2</td>\n",
       "      <td>No</td>\n",
       "      <td>No</td>\n",
       "      <td>1965-07-15</td>\n",
       "      <td>Mariner 4</td>\n",
       "    </tr>\n",
       "    <tr>\n",
       "      <th>5</th>\n",
       "      <td>JUPITER</td>\n",
       "      <td>1898.0000</td>\n",
       "      <td>1,42,984</td>\n",
       "      <td>9.9</td>\n",
       "      <td>778.6</td>\n",
       "      <td>4331</td>\n",
       "      <td>13.1</td>\n",
       "      <td>-110</td>\n",
       "      <td>NaN</td>\n",
       "      <td>67</td>\n",
       "      <td>Yes</td>\n",
       "      <td>Yes</td>\n",
       "      <td>1973-12-04</td>\n",
       "      <td>Pioneer 10</td>\n",
       "    </tr>\n",
       "    <tr>\n",
       "      <th>6</th>\n",
       "      <td>SATURN</td>\n",
       "      <td>568.0000</td>\n",
       "      <td>1,20,536</td>\n",
       "      <td>10.7</td>\n",
       "      <td>1433.5</td>\n",
       "      <td>10,747</td>\n",
       "      <td>9.7</td>\n",
       "      <td>-140</td>\n",
       "      <td>NaN</td>\n",
       "      <td>62</td>\n",
       "      <td>Yes</td>\n",
       "      <td>Yes</td>\n",
       "      <td>1979-09-01</td>\n",
       "      <td>Pioneer 11</td>\n",
       "    </tr>\n",
       "    <tr>\n",
       "      <th>7</th>\n",
       "      <td>URANUS</td>\n",
       "      <td>86.8000</td>\n",
       "      <td>51,118</td>\n",
       "      <td>17.2</td>\n",
       "      <td>2872.5</td>\n",
       "      <td>30,589</td>\n",
       "      <td>6.8</td>\n",
       "      <td>-195</td>\n",
       "      <td>NaN</td>\n",
       "      <td>27</td>\n",
       "      <td>Yes</td>\n",
       "      <td>Yes</td>\n",
       "      <td>1986-01-24</td>\n",
       "      <td>Voyager 2</td>\n",
       "    </tr>\n",
       "    <tr>\n",
       "      <th>8</th>\n",
       "      <td>NEPTUNE</td>\n",
       "      <td>102.0000</td>\n",
       "      <td>49,528</td>\n",
       "      <td>16.1</td>\n",
       "      <td>4495.1</td>\n",
       "      <td>59,800</td>\n",
       "      <td>5.4</td>\n",
       "      <td>-200</td>\n",
       "      <td>NaN</td>\n",
       "      <td>14</td>\n",
       "      <td>Yes</td>\n",
       "      <td>Yes</td>\n",
       "      <td>1989-08-25</td>\n",
       "      <td>Voyager 2</td>\n",
       "    </tr>\n",
       "    <tr>\n",
       "      <th>9</th>\n",
       "      <td>PLUTO</td>\n",
       "      <td>0.0146</td>\n",
       "      <td>2370</td>\n",
       "      <td>153.3</td>\n",
       "      <td>5906.4</td>\n",
       "      <td>90,560</td>\n",
       "      <td>4.7</td>\n",
       "      <td>-225</td>\n",
       "      <td>0.00001</td>\n",
       "      <td>5</td>\n",
       "      <td>No</td>\n",
       "      <td>NaN</td>\n",
       "      <td>2015-07-14</td>\n",
       "      <td>New Horizons</td>\n",
       "    </tr>\n",
       "  </tbody>\n",
       "</table>\n",
       "</div>"
      ],
      "text/plain": [
       "    Planet       Mass  Diameter  DayLength  SunDistance OrbitPeriod  \\\n",
       "0  MERCURY     0.3300      4879     4222.6         57.9          88   \n",
       "1    VENUS     4.8700    12,104     2802.0        108.2       224.7   \n",
       "2    EARTH     5.9700    12,756       24.0        149.6       365.2   \n",
       "3     MOON     0.0730      3475      708.7          NaN        27.3   \n",
       "4     MARS     0.6420      6792       24.7        227.9         687   \n",
       "5  JUPITER  1898.0000  1,42,984        9.9        778.6        4331   \n",
       "6   SATURN   568.0000  1,20,536       10.7       1433.5      10,747   \n",
       "7   URANUS    86.8000    51,118       17.2       2872.5      30,589   \n",
       "8  NEPTUNE   102.0000    49,528       16.1       4495.1      59,800   \n",
       "9    PLUTO     0.0146      2370      153.3       5906.4      90,560   \n",
       "\n",
       "   OrbitVelocity  MeanTemperature  SurfacePressure  Moons Rings MagneticField  \\\n",
       "0           47.4              167          0.00000      0    No           Yes   \n",
       "1           35.0              464         92.00000      0    No            No   \n",
       "2           29.8               15          1.00000      1    No           Yes   \n",
       "3            1.0              -20          0.00000      0    No            No   \n",
       "4           24.1              -65          0.01000      2    No            No   \n",
       "5           13.1             -110              NaN     67   Yes           Yes   \n",
       "6            9.7             -140              NaN     62   Yes           Yes   \n",
       "7            6.8             -195              NaN     27   Yes           Yes   \n",
       "8            5.4             -200              NaN     14   Yes           Yes   \n",
       "9            4.7             -225          0.00001      5    No           NaN   \n",
       "\n",
       "  FirstVisited  FirstMission  \n",
       "0   1974-03-29    Mariner 10  \n",
       "1   1962-08-27     Mariner 2  \n",
       "2          NaN           NaN  \n",
       "3   1959-09-12        Luna 2  \n",
       "4   1965-07-15     Mariner 4  \n",
       "5   1973-12-04    Pioneer 10  \n",
       "6   1979-09-01    Pioneer 11  \n",
       "7   1986-01-24     Voyager 2  \n",
       "8   1989-08-25     Voyager 2  \n",
       "9   2015-07-14  New Horizons  "
      ]
     },
     "execution_count": 25,
     "metadata": {},
     "output_type": "execute_result"
    }
   ],
   "source": [
    "planets"
   ]
  },
  {
   "cell_type": "code",
   "execution_count": 26,
   "metadata": {},
   "outputs": [
    {
     "name": "stdout",
     "output_type": "stream",
     "text": [
      "<class 'pandas.core.frame.DataFrame'>\n",
      "RangeIndex: 10 entries, 0 to 9\n",
      "Data columns (total 14 columns):\n",
      " #   Column           Non-Null Count  Dtype  \n",
      "---  ------           --------------  -----  \n",
      " 0   Planet           10 non-null     object \n",
      " 1   Mass             10 non-null     float64\n",
      " 2   Diameter         10 non-null     object \n",
      " 3   DayLength        10 non-null     float64\n",
      " 4   SunDistance      9 non-null      float64\n",
      " 5   OrbitPeriod      10 non-null     object \n",
      " 6   OrbitVelocity    10 non-null     float64\n",
      " 7   MeanTemperature  10 non-null     int64  \n",
      " 8   SurfacePressure  6 non-null      float64\n",
      " 9   Moons            10 non-null     int64  \n",
      " 10  Rings            10 non-null     object \n",
      " 11  MagneticField    9 non-null      object \n",
      " 12  FirstVisited     9 non-null      object \n",
      " 13  FirstMission     9 non-null      object \n",
      "dtypes: float64(5), int64(2), object(7)\n",
      "memory usage: 1.2+ KB\n"
     ]
    }
   ],
   "source": [
    "planets.info()"
   ]
  },
  {
   "cell_type": "code",
   "execution_count": 30,
   "metadata": {},
   "outputs": [
    {
     "data": {
      "text/plain": [
       "Planet                MERCURY\n",
       "Mass                     0.33\n",
       "Diameter                 4879\n",
       "DayLength              4222.6\n",
       "SunDistance              57.9\n",
       "OrbitPeriod                88\n",
       "OrbitVelocity            47.4\n",
       "MeanTemperature           167\n",
       "SurfacePressure             0\n",
       "Moons                       0\n",
       "Rings                      No\n",
       "MagneticField             Yes\n",
       "FirstVisited       1974-03-29\n",
       "FirstMission       Mariner 10\n",
       "Name: 0, dtype: object"
      ]
     },
     "execution_count": 30,
     "metadata": {},
     "output_type": "execute_result"
    }
   ],
   "source": [
    "planets.loc[0]"
   ]
  },
  {
   "cell_type": "code",
   "execution_count": 32,
   "metadata": {},
   "outputs": [
    {
     "data": {
      "text/html": [
       "<div>\n",
       "<style scoped>\n",
       "    .dataframe tbody tr th:only-of-type {\n",
       "        vertical-align: middle;\n",
       "    }\n",
       "\n",
       "    .dataframe tbody tr th {\n",
       "        vertical-align: top;\n",
       "    }\n",
       "\n",
       "    .dataframe thead th {\n",
       "        text-align: right;\n",
       "    }\n",
       "</style>\n",
       "<table border=\"1\" class=\"dataframe\">\n",
       "  <thead>\n",
       "    <tr style=\"text-align: right;\">\n",
       "      <th></th>\n",
       "      <th>Planet</th>\n",
       "      <th>Mass</th>\n",
       "      <th>Diameter</th>\n",
       "      <th>DayLength</th>\n",
       "      <th>SunDistance</th>\n",
       "      <th>OrbitPeriod</th>\n",
       "      <th>OrbitVelocity</th>\n",
       "      <th>MeanTemperature</th>\n",
       "      <th>SurfacePressure</th>\n",
       "      <th>Moons</th>\n",
       "      <th>Rings</th>\n",
       "      <th>MagneticField</th>\n",
       "      <th>FirstVisited</th>\n",
       "      <th>FirstMission</th>\n",
       "    </tr>\n",
       "  </thead>\n",
       "  <tbody>\n",
       "    <tr>\n",
       "      <th>0</th>\n",
       "      <td>MERCURY</td>\n",
       "      <td>0.33</td>\n",
       "      <td>4879</td>\n",
       "      <td>4222.6</td>\n",
       "      <td>57.9</td>\n",
       "      <td>88</td>\n",
       "      <td>47.4</td>\n",
       "      <td>167</td>\n",
       "      <td>0.0</td>\n",
       "      <td>0</td>\n",
       "      <td>No</td>\n",
       "      <td>Yes</td>\n",
       "      <td>1974-03-29</td>\n",
       "      <td>Mariner 10</td>\n",
       "    </tr>\n",
       "    <tr>\n",
       "      <th>2</th>\n",
       "      <td>EARTH</td>\n",
       "      <td>5.97</td>\n",
       "      <td>12,756</td>\n",
       "      <td>24.0</td>\n",
       "      <td>149.6</td>\n",
       "      <td>365.2</td>\n",
       "      <td>29.8</td>\n",
       "      <td>15</td>\n",
       "      <td>1.0</td>\n",
       "      <td>1</td>\n",
       "      <td>No</td>\n",
       "      <td>Yes</td>\n",
       "      <td>NaN</td>\n",
       "      <td>NaN</td>\n",
       "    </tr>\n",
       "  </tbody>\n",
       "</table>\n",
       "</div>"
      ],
      "text/plain": [
       "    Planet  Mass Diameter  DayLength  SunDistance OrbitPeriod  OrbitVelocity  \\\n",
       "0  MERCURY  0.33     4879     4222.6         57.9          88           47.4   \n",
       "2    EARTH  5.97   12,756       24.0        149.6       365.2           29.8   \n",
       "\n",
       "   MeanTemperature  SurfacePressure  Moons Rings MagneticField FirstVisited  \\\n",
       "0              167              0.0      0    No           Yes   1974-03-29   \n",
       "2               15              1.0      1    No           Yes          NaN   \n",
       "\n",
       "  FirstMission  \n",
       "0   Mariner 10  \n",
       "2          NaN  "
      ]
     },
     "execution_count": 32,
     "metadata": {},
     "output_type": "execute_result"
    }
   ],
   "source": [
    "planets.loc[[0, 2]]"
   ]
  },
  {
   "cell_type": "code",
   "execution_count": 33,
   "metadata": {},
   "outputs": [
    {
     "data": {
      "text/plain": [
       "Index(['Planet', 'Mass', 'Diameter', 'DayLength', 'SunDistance', 'OrbitPeriod',\n",
       "       'OrbitVelocity', 'MeanTemperature', 'SurfacePressure', 'Moons', 'Rings',\n",
       "       'MagneticField', 'FirstVisited', 'FirstMission'],\n",
       "      dtype='object')"
      ]
     },
     "execution_count": 33,
     "metadata": {},
     "output_type": "execute_result"
    }
   ],
   "source": [
    "planets.columns"
   ]
  },
  {
   "cell_type": "code",
   "execution_count": 34,
   "metadata": {},
   "outputs": [],
   "source": [
    "planets.set_index('Planet', inplace=True)"
   ]
  },
  {
   "cell_type": "code",
   "execution_count": 35,
   "metadata": {},
   "outputs": [
    {
     "data": {
      "text/html": [
       "<div>\n",
       "<style scoped>\n",
       "    .dataframe tbody tr th:only-of-type {\n",
       "        vertical-align: middle;\n",
       "    }\n",
       "\n",
       "    .dataframe tbody tr th {\n",
       "        vertical-align: top;\n",
       "    }\n",
       "\n",
       "    .dataframe thead th {\n",
       "        text-align: right;\n",
       "    }\n",
       "</style>\n",
       "<table border=\"1\" class=\"dataframe\">\n",
       "  <thead>\n",
       "    <tr style=\"text-align: right;\">\n",
       "      <th></th>\n",
       "      <th>Mass</th>\n",
       "      <th>Diameter</th>\n",
       "      <th>DayLength</th>\n",
       "      <th>SunDistance</th>\n",
       "      <th>OrbitPeriod</th>\n",
       "      <th>OrbitVelocity</th>\n",
       "      <th>MeanTemperature</th>\n",
       "      <th>SurfacePressure</th>\n",
       "      <th>Moons</th>\n",
       "      <th>Rings</th>\n",
       "      <th>MagneticField</th>\n",
       "      <th>FirstVisited</th>\n",
       "      <th>FirstMission</th>\n",
       "    </tr>\n",
       "    <tr>\n",
       "      <th>Planet</th>\n",
       "      <th></th>\n",
       "      <th></th>\n",
       "      <th></th>\n",
       "      <th></th>\n",
       "      <th></th>\n",
       "      <th></th>\n",
       "      <th></th>\n",
       "      <th></th>\n",
       "      <th></th>\n",
       "      <th></th>\n",
       "      <th></th>\n",
       "      <th></th>\n",
       "      <th></th>\n",
       "    </tr>\n",
       "  </thead>\n",
       "  <tbody>\n",
       "    <tr>\n",
       "      <th>MERCURY</th>\n",
       "      <td>0.3300</td>\n",
       "      <td>4879</td>\n",
       "      <td>4222.6</td>\n",
       "      <td>57.9</td>\n",
       "      <td>88</td>\n",
       "      <td>47.4</td>\n",
       "      <td>167</td>\n",
       "      <td>0.00000</td>\n",
       "      <td>0</td>\n",
       "      <td>No</td>\n",
       "      <td>Yes</td>\n",
       "      <td>1974-03-29</td>\n",
       "      <td>Mariner 10</td>\n",
       "    </tr>\n",
       "    <tr>\n",
       "      <th>VENUS</th>\n",
       "      <td>4.8700</td>\n",
       "      <td>12,104</td>\n",
       "      <td>2802.0</td>\n",
       "      <td>108.2</td>\n",
       "      <td>224.7</td>\n",
       "      <td>35.0</td>\n",
       "      <td>464</td>\n",
       "      <td>92.00000</td>\n",
       "      <td>0</td>\n",
       "      <td>No</td>\n",
       "      <td>No</td>\n",
       "      <td>1962-08-27</td>\n",
       "      <td>Mariner 2</td>\n",
       "    </tr>\n",
       "    <tr>\n",
       "      <th>EARTH</th>\n",
       "      <td>5.9700</td>\n",
       "      <td>12,756</td>\n",
       "      <td>24.0</td>\n",
       "      <td>149.6</td>\n",
       "      <td>365.2</td>\n",
       "      <td>29.8</td>\n",
       "      <td>15</td>\n",
       "      <td>1.00000</td>\n",
       "      <td>1</td>\n",
       "      <td>No</td>\n",
       "      <td>Yes</td>\n",
       "      <td>NaN</td>\n",
       "      <td>NaN</td>\n",
       "    </tr>\n",
       "    <tr>\n",
       "      <th>MOON</th>\n",
       "      <td>0.0730</td>\n",
       "      <td>3475</td>\n",
       "      <td>708.7</td>\n",
       "      <td>NaN</td>\n",
       "      <td>27.3</td>\n",
       "      <td>1.0</td>\n",
       "      <td>-20</td>\n",
       "      <td>0.00000</td>\n",
       "      <td>0</td>\n",
       "      <td>No</td>\n",
       "      <td>No</td>\n",
       "      <td>1959-09-12</td>\n",
       "      <td>Luna 2</td>\n",
       "    </tr>\n",
       "    <tr>\n",
       "      <th>MARS</th>\n",
       "      <td>0.6420</td>\n",
       "      <td>6792</td>\n",
       "      <td>24.7</td>\n",
       "      <td>227.9</td>\n",
       "      <td>687</td>\n",
       "      <td>24.1</td>\n",
       "      <td>-65</td>\n",
       "      <td>0.01000</td>\n",
       "      <td>2</td>\n",
       "      <td>No</td>\n",
       "      <td>No</td>\n",
       "      <td>1965-07-15</td>\n",
       "      <td>Mariner 4</td>\n",
       "    </tr>\n",
       "    <tr>\n",
       "      <th>JUPITER</th>\n",
       "      <td>1898.0000</td>\n",
       "      <td>1,42,984</td>\n",
       "      <td>9.9</td>\n",
       "      <td>778.6</td>\n",
       "      <td>4331</td>\n",
       "      <td>13.1</td>\n",
       "      <td>-110</td>\n",
       "      <td>NaN</td>\n",
       "      <td>67</td>\n",
       "      <td>Yes</td>\n",
       "      <td>Yes</td>\n",
       "      <td>1973-12-04</td>\n",
       "      <td>Pioneer 10</td>\n",
       "    </tr>\n",
       "    <tr>\n",
       "      <th>SATURN</th>\n",
       "      <td>568.0000</td>\n",
       "      <td>1,20,536</td>\n",
       "      <td>10.7</td>\n",
       "      <td>1433.5</td>\n",
       "      <td>10,747</td>\n",
       "      <td>9.7</td>\n",
       "      <td>-140</td>\n",
       "      <td>NaN</td>\n",
       "      <td>62</td>\n",
       "      <td>Yes</td>\n",
       "      <td>Yes</td>\n",
       "      <td>1979-09-01</td>\n",
       "      <td>Pioneer 11</td>\n",
       "    </tr>\n",
       "    <tr>\n",
       "      <th>URANUS</th>\n",
       "      <td>86.8000</td>\n",
       "      <td>51,118</td>\n",
       "      <td>17.2</td>\n",
       "      <td>2872.5</td>\n",
       "      <td>30,589</td>\n",
       "      <td>6.8</td>\n",
       "      <td>-195</td>\n",
       "      <td>NaN</td>\n",
       "      <td>27</td>\n",
       "      <td>Yes</td>\n",
       "      <td>Yes</td>\n",
       "      <td>1986-01-24</td>\n",
       "      <td>Voyager 2</td>\n",
       "    </tr>\n",
       "    <tr>\n",
       "      <th>NEPTUNE</th>\n",
       "      <td>102.0000</td>\n",
       "      <td>49,528</td>\n",
       "      <td>16.1</td>\n",
       "      <td>4495.1</td>\n",
       "      <td>59,800</td>\n",
       "      <td>5.4</td>\n",
       "      <td>-200</td>\n",
       "      <td>NaN</td>\n",
       "      <td>14</td>\n",
       "      <td>Yes</td>\n",
       "      <td>Yes</td>\n",
       "      <td>1989-08-25</td>\n",
       "      <td>Voyager 2</td>\n",
       "    </tr>\n",
       "    <tr>\n",
       "      <th>PLUTO</th>\n",
       "      <td>0.0146</td>\n",
       "      <td>2370</td>\n",
       "      <td>153.3</td>\n",
       "      <td>5906.4</td>\n",
       "      <td>90,560</td>\n",
       "      <td>4.7</td>\n",
       "      <td>-225</td>\n",
       "      <td>0.00001</td>\n",
       "      <td>5</td>\n",
       "      <td>No</td>\n",
       "      <td>NaN</td>\n",
       "      <td>2015-07-14</td>\n",
       "      <td>New Horizons</td>\n",
       "    </tr>\n",
       "  </tbody>\n",
       "</table>\n",
       "</div>"
      ],
      "text/plain": [
       "              Mass  Diameter  DayLength  SunDistance OrbitPeriod  \\\n",
       "Planet                                                             \n",
       "MERCURY     0.3300      4879     4222.6         57.9          88   \n",
       "VENUS       4.8700    12,104     2802.0        108.2       224.7   \n",
       "EARTH       5.9700    12,756       24.0        149.6       365.2   \n",
       "MOON        0.0730      3475      708.7          NaN        27.3   \n",
       "MARS        0.6420      6792       24.7        227.9         687   \n",
       "JUPITER  1898.0000  1,42,984        9.9        778.6        4331   \n",
       "SATURN    568.0000  1,20,536       10.7       1433.5      10,747   \n",
       "URANUS     86.8000    51,118       17.2       2872.5      30,589   \n",
       "NEPTUNE   102.0000    49,528       16.1       4495.1      59,800   \n",
       "PLUTO       0.0146      2370      153.3       5906.4      90,560   \n",
       "\n",
       "         OrbitVelocity  MeanTemperature  SurfacePressure  Moons Rings  \\\n",
       "Planet                                                                  \n",
       "MERCURY           47.4              167          0.00000      0    No   \n",
       "VENUS             35.0              464         92.00000      0    No   \n",
       "EARTH             29.8               15          1.00000      1    No   \n",
       "MOON               1.0              -20          0.00000      0    No   \n",
       "MARS              24.1              -65          0.01000      2    No   \n",
       "JUPITER           13.1             -110              NaN     67   Yes   \n",
       "SATURN             9.7             -140              NaN     62   Yes   \n",
       "URANUS             6.8             -195              NaN     27   Yes   \n",
       "NEPTUNE            5.4             -200              NaN     14   Yes   \n",
       "PLUTO              4.7             -225          0.00001      5    No   \n",
       "\n",
       "        MagneticField FirstVisited  FirstMission  \n",
       "Planet                                            \n",
       "MERCURY           Yes   1974-03-29    Mariner 10  \n",
       "VENUS              No   1962-08-27     Mariner 2  \n",
       "EARTH             Yes          NaN           NaN  \n",
       "MOON               No   1959-09-12        Luna 2  \n",
       "MARS               No   1965-07-15     Mariner 4  \n",
       "JUPITER           Yes   1973-12-04    Pioneer 10  \n",
       "SATURN            Yes   1979-09-01    Pioneer 11  \n",
       "URANUS            Yes   1986-01-24     Voyager 2  \n",
       "NEPTUNE           Yes   1989-08-25     Voyager 2  \n",
       "PLUTO             NaN   2015-07-14  New Horizons  "
      ]
     },
     "execution_count": 35,
     "metadata": {},
     "output_type": "execute_result"
    }
   ],
   "source": [
    "planets"
   ]
  },
  {
   "cell_type": "code",
   "execution_count": 36,
   "metadata": {},
   "outputs": [
    {
     "data": {
      "text/plain": [
       "'1974-03-29'"
      ]
     },
     "execution_count": 36,
     "metadata": {},
     "output_type": "execute_result"
    }
   ],
   "source": [
    "planets.FirstVisited.MERCURY"
   ]
  },
  {
   "cell_type": "code",
   "execution_count": 37,
   "metadata": {},
   "outputs": [
    {
     "data": {
      "text/plain": [
       "'1974-03-29'"
      ]
     },
     "execution_count": 37,
     "metadata": {},
     "output_type": "execute_result"
    }
   ],
   "source": [
    "planets.loc['MERCURY'].FirstVisited"
   ]
  },
  {
   "cell_type": "code",
   "execution_count": 38,
   "metadata": {},
   "outputs": [
    {
     "data": {
      "text/plain": [
       "'1974-03-29'"
      ]
     },
     "execution_count": 38,
     "metadata": {},
     "output_type": "execute_result"
    }
   ],
   "source": [
    "planets.loc['MERCURY', 'FirstVisited']"
   ]
  },
  {
   "cell_type": "code",
   "execution_count": 39,
   "metadata": {},
   "outputs": [
    {
     "name": "stdout",
     "output_type": "stream",
     "text": [
      "<class 'pandas.core.frame.DataFrame'>\n",
      "Index: 10 entries, MERCURY to PLUTO\n",
      "Data columns (total 13 columns):\n",
      " #   Column           Non-Null Count  Dtype  \n",
      "---  ------           --------------  -----  \n",
      " 0   Mass             10 non-null     float64\n",
      " 1   Diameter         10 non-null     object \n",
      " 2   DayLength        10 non-null     float64\n",
      " 3   SunDistance      9 non-null      float64\n",
      " 4   OrbitPeriod      10 non-null     object \n",
      " 5   OrbitVelocity    10 non-null     float64\n",
      " 6   MeanTemperature  10 non-null     int64  \n",
      " 7   SurfacePressure  6 non-null      float64\n",
      " 8   Moons            10 non-null     int64  \n",
      " 9   Rings            10 non-null     object \n",
      " 10  MagneticField    9 non-null      object \n",
      " 11  FirstVisited     9 non-null      object \n",
      " 12  FirstMission     9 non-null      object \n",
      "dtypes: float64(5), int64(2), object(6)\n",
      "memory usage: 1.4+ KB\n"
     ]
    }
   ],
   "source": [
    "planets.info()"
   ]
  },
  {
   "cell_type": "code",
   "execution_count": 40,
   "metadata": {},
   "outputs": [],
   "source": [
    "planets.FirstVisited = pandas.to_datetime(planets.FirstVisited)"
   ]
  },
  {
   "cell_type": "code",
   "execution_count": 41,
   "metadata": {},
   "outputs": [
    {
     "data": {
      "text/plain": [
       "Planet\n",
       "MERCURY   1974-03-29\n",
       "VENUS     1962-08-27\n",
       "EARTH            NaT\n",
       "MOON      1959-09-12\n",
       "MARS      1965-07-15\n",
       "JUPITER   1973-12-04\n",
       "SATURN    1979-09-01\n",
       "URANUS    1986-01-24\n",
       "NEPTUNE   1989-08-25\n",
       "PLUTO     2015-07-14\n",
       "Name: FirstVisited, dtype: datetime64[ns]"
      ]
     },
     "execution_count": 41,
     "metadata": {},
     "output_type": "execute_result"
    }
   ],
   "source": [
    "planets.FirstVisited"
   ]
  },
  {
   "cell_type": "code",
   "execution_count": 42,
   "metadata": {},
   "outputs": [
    {
     "data": {
      "text/plain": [
       "Planet\n",
       "MERCURY    1974.0\n",
       "VENUS      1962.0\n",
       "EARTH         NaN\n",
       "MOON       1959.0\n",
       "MARS       1965.0\n",
       "JUPITER    1973.0\n",
       "SATURN     1979.0\n",
       "URANUS     1986.0\n",
       "NEPTUNE    1989.0\n",
       "PLUTO      2015.0\n",
       "Name: FirstVisited, dtype: float64"
      ]
     },
     "execution_count": 42,
     "metadata": {},
     "output_type": "execute_result"
    }
   ],
   "source": [
    "planets.FirstVisited.dt.year"
   ]
  },
  {
   "cell_type": "code",
   "execution_count": 43,
   "metadata": {},
   "outputs": [
    {
     "data": {
      "text/plain": [
       "Planet\n",
       "MERCURY     3.0\n",
       "VENUS       8.0\n",
       "EARTH       NaN\n",
       "MOON        9.0\n",
       "MARS        7.0\n",
       "JUPITER    12.0\n",
       "SATURN      9.0\n",
       "URANUS      1.0\n",
       "NEPTUNE     8.0\n",
       "PLUTO       7.0\n",
       "Name: FirstVisited, dtype: float64"
      ]
     },
     "execution_count": 43,
     "metadata": {},
     "output_type": "execute_result"
    }
   ],
   "source": [
    "planets.FirstVisited.dt.month"
   ]
  },
  {
   "cell_type": "code",
   "execution_count": 44,
   "metadata": {},
   "outputs": [
    {
     "data": {
      "text/plain": [
       "Planet\n",
       "MERCURY    29.0\n",
       "VENUS      27.0\n",
       "EARTH       NaN\n",
       "MOON       12.0\n",
       "MARS       15.0\n",
       "JUPITER     4.0\n",
       "SATURN      1.0\n",
       "URANUS     24.0\n",
       "NEPTUNE    25.0\n",
       "PLUTO      14.0\n",
       "Name: FirstVisited, dtype: float64"
      ]
     },
     "execution_count": 44,
     "metadata": {},
     "output_type": "execute_result"
    }
   ],
   "source": [
    "planets.FirstVisited.dt.day"
   ]
  },
  {
   "cell_type": "code",
   "execution_count": 45,
   "metadata": {},
   "outputs": [
    {
     "data": {
      "text/plain": [
       "Planet\n",
       "MERCURY    4.0\n",
       "VENUS      0.0\n",
       "EARTH      NaN\n",
       "MOON       5.0\n",
       "MARS       3.0\n",
       "JUPITER    1.0\n",
       "SATURN     5.0\n",
       "URANUS     4.0\n",
       "NEPTUNE    4.0\n",
       "PLUTO      1.0\n",
       "Name: FirstVisited, dtype: float64"
      ]
     },
     "execution_count": 45,
     "metadata": {},
     "output_type": "execute_result"
    }
   ],
   "source": [
    "planets.FirstVisited.dt.dayofweek"
   ]
  },
  {
   "cell_type": "code",
   "execution_count": 46,
   "metadata": {},
   "outputs": [
    {
     "data": {
      "text/plain": [
       "Planet\n",
       "MERCURY     88.0\n",
       "VENUS      239.0\n",
       "EARTH        NaN\n",
       "MOON       255.0\n",
       "MARS       196.0\n",
       "JUPITER    338.0\n",
       "SATURN     244.0\n",
       "URANUS      24.0\n",
       "NEPTUNE    237.0\n",
       "PLUTO      195.0\n",
       "Name: FirstVisited, dtype: float64"
      ]
     },
     "execution_count": 46,
     "metadata": {},
     "output_type": "execute_result"
    }
   ],
   "source": [
    "planets.FirstVisited.dt.dayofyear"
   ]
  },
  {
   "cell_type": "code",
   "execution_count": 47,
   "metadata": {},
   "outputs": [
    {
     "data": {
      "text/plain": [
       "<bound method PandasDelegate._add_delegate_accessors.<locals>._create_delegator_method.<locals>.f of <pandas.core.indexes.accessors.DatetimeProperties object at 0x000001C645AD21C0>>"
      ]
     },
     "execution_count": 47,
     "metadata": {},
     "output_type": "execute_result"
    }
   ],
   "source": [
    "planets.FirstVisited.dt.month_name"
   ]
  },
  {
   "cell_type": "code",
   "execution_count": 48,
   "metadata": {},
   "outputs": [
    {
     "data": {
      "text/plain": [
       "Planet\n",
       "MERCURY    46.0\n",
       "VENUS      58.0\n",
       "EARTH       NaN\n",
       "MOON       61.0\n",
       "MARS       55.0\n",
       "JUPITER    47.0\n",
       "SATURN     41.0\n",
       "URANUS     34.0\n",
       "NEPTUNE    31.0\n",
       "PLUTO       5.0\n",
       "Name: FirstVisited, dtype: float64"
      ]
     },
     "execution_count": 48,
     "metadata": {},
     "output_type": "execute_result"
    }
   ],
   "source": [
    "2020 - planets.FirstVisited.dt.year"
   ]
  },
  {
   "cell_type": "markdown",
   "metadata": {},
   "source": [
    "Moon was visited 61 years ago"
   ]
  },
  {
   "cell_type": "code",
   "execution_count": null,
   "metadata": {},
   "outputs": [],
   "source": []
  }
 ],
 "metadata": {
  "kernelspec": {
   "display_name": "Python 3",
   "language": "python",
   "name": "python3"
  },
  "language_info": {
   "codemirror_mode": {
    "name": "ipython",
    "version": 3
   },
   "file_extension": ".py",
   "mimetype": "text/x-python",
   "name": "python",
   "nbconvert_exporter": "python",
   "pygments_lexer": "ipython3",
   "version": "3.8.3"
  }
 },
 "nbformat": 4,
 "nbformat_minor": 4
}
