{
 "cells": [
  {
   "cell_type": "markdown",
   "id": "00d8e5e8",
   "metadata": {},
   "source": [
    "### Clustering Algorithms"
   ]
  },
  {
   "cell_type": "code",
   "execution_count": 1,
   "id": "32818a84",
   "metadata": {},
   "outputs": [],
   "source": [
    "import pyspark\n",
    "\n",
    "from pyspark.sql import SQLContext, SparkSession"
   ]
  },
  {
   "cell_type": "code",
   "execution_count": 2,
   "id": "68e5b89a",
   "metadata": {},
   "outputs": [
    {
     "name": "stderr",
     "output_type": "stream",
     "text": [
      "Setting default log level to \"WARN\".\n",
      "To adjust logging level use sc.setLogLevel(newLevel). For SparkR, use setLogLevel(newLevel).\n"
     ]
    },
    {
     "name": "stdout",
     "output_type": "stream",
     "text": [
      "22/08/14 08:35:53 WARN NativeCodeLoader: Unable to load native-hadoop library for your platform... using builtin-java classes where applicable\n"
     ]
    }
   ],
   "source": [
    "spark = SparkSession.builder.getOrCreate()"
   ]
  },
  {
   "cell_type": "code",
   "execution_count": 3,
   "id": "706fb6da",
   "metadata": {},
   "outputs": [],
   "source": [
    "from pyspark.ml.linalg import Vectors\n",
    "from pyspark.ml.feature import VectorAssembler\n",
    "from pyspark.ml.clustering import KMeans"
   ]
  },
  {
   "cell_type": "code",
   "execution_count": 4,
   "id": "240ec5a2",
   "metadata": {},
   "outputs": [],
   "source": [
    "cluster_df = spark.read.csv(\"./clustering_dataset-Copy1.csv\", header=True)"
   ]
  },
  {
   "cell_type": "code",
   "execution_count": 5,
   "id": "0a3fc5d7",
   "metadata": {},
   "outputs": [
    {
     "name": "stdout",
     "output_type": "stream",
     "text": [
      "+----+----+----+\n",
      "|col1|col2|col3|\n",
      "+----+----+----+\n",
      "|   7|   4|   1|\n",
      "|   7|   7|   9|\n",
      "|   7|   9|   6|\n",
      "|   1|   6|   5|\n",
      "|   6|   7|   7|\n",
      "|   7|   9|   4|\n",
      "|   7|  10|   6|\n",
      "|   7|   8|   2|\n",
      "|   8|   3|   8|\n",
      "|   4|  10|   5|\n",
      "|   7|   4|   5|\n",
      "|   7|   8|   4|\n",
      "|   2|   5|   1|\n",
      "|   2|   6|   2|\n",
      "|   2|   3|   8|\n",
      "|   3|   9|   1|\n",
      "|   4|   2|   9|\n",
      "|   1|   7|   1|\n",
      "|   6|   2|   3|\n",
      "|   4|   1|   9|\n",
      "+----+----+----+\n",
      "only showing top 20 rows\n",
      "\n"
     ]
    }
   ],
   "source": [
    "cluster_df.show()"
   ]
  },
  {
   "cell_type": "code",
   "execution_count": 6,
   "id": "daacad1d",
   "metadata": {},
   "outputs": [
    {
     "name": "stdout",
     "output_type": "stream",
     "text": [
      "root\n",
      " |-- col1: string (nullable = true)\n",
      " |-- col2: string (nullable = true)\n",
      " |-- col3: string (nullable = true)\n",
      "\n"
     ]
    }
   ],
   "source": [
    "cluster_df.printSchema()"
   ]
  },
  {
   "cell_type": "code",
   "execution_count": 7,
   "id": "8fa06733",
   "metadata": {},
   "outputs": [],
   "source": [
    "cluster_df = cluster_df.withColumn(\"col1\",cluster_df.col1.cast('integer'))\n",
    "cluster_df = cluster_df.withColumn(\"col2\",cluster_df.col2.cast('integer'))\n",
    "cluster_df = cluster_df.withColumn(\"col3\",cluster_df.col3.cast('integer'))"
   ]
  },
  {
   "cell_type": "code",
   "execution_count": 8,
   "id": "02177242",
   "metadata": {},
   "outputs": [
    {
     "name": "stdout",
     "output_type": "stream",
     "text": [
      "root\n",
      " |-- col1: integer (nullable = true)\n",
      " |-- col2: integer (nullable = true)\n",
      " |-- col3: integer (nullable = true)\n",
      "\n"
     ]
    }
   ],
   "source": [
    "cluster_df.printSchema()"
   ]
  },
  {
   "cell_type": "code",
   "execution_count": 9,
   "id": "4dab0879",
   "metadata": {},
   "outputs": [],
   "source": [
    "vectorAssembler = VectorAssembler(inputCols=[\"col1\", \"col2\", \"col3\"],\n",
    "                                 outputCol=\"features\")"
   ]
  },
  {
   "cell_type": "code",
   "execution_count": 10,
   "id": "2cc34653",
   "metadata": {},
   "outputs": [
    {
     "name": "stdout",
     "output_type": "stream",
     "text": [
      "+----+----+----+-------------+\n",
      "|col1|col2|col3|     features|\n",
      "+----+----+----+-------------+\n",
      "|   7|   4|   1|[7.0,4.0,1.0]|\n",
      "|   7|   7|   9|[7.0,7.0,9.0]|\n",
      "|   7|   9|   6|[7.0,9.0,6.0]|\n",
      "|   1|   6|   5|[1.0,6.0,5.0]|\n",
      "|   6|   7|   7|[6.0,7.0,7.0]|\n",
      "+----+----+----+-------------+\n",
      "only showing top 5 rows\n",
      "\n"
     ]
    }
   ],
   "source": [
    "vcluster_df = vectorAssembler.transform(cluster_df)\n",
    "vcluster_df.show(5)"
   ]
  },
  {
   "cell_type": "markdown",
   "id": "b144d1d8",
   "metadata": {},
   "source": [
    "### Kmeans"
   ]
  },
  {
   "cell_type": "code",
   "execution_count": 15,
   "id": "e567e5cc",
   "metadata": {},
   "outputs": [],
   "source": [
    "kmeans = KMeans().setK(3)\n",
    "kmeans = kmeans.setSeed(1)"
   ]
  },
  {
   "cell_type": "code",
   "execution_count": 16,
   "id": "d92fcada",
   "metadata": {},
   "outputs": [],
   "source": [
    "kmodel = kmeans.fit(vcluster_df)"
   ]
  },
  {
   "cell_type": "code",
   "execution_count": 17,
   "id": "91feaf00",
   "metadata": {},
   "outputs": [
    {
     "data": {
      "text/plain": [
       "[array([35.88461538, 31.46153846, 34.42307692]),\n",
       " array([80.        , 79.20833333, 78.29166667]),\n",
       " array([5.12, 5.84, 4.84])]"
      ]
     },
     "execution_count": 17,
     "metadata": {},
     "output_type": "execute_result"
    }
   ],
   "source": [
    "centers = kmodel.clusterCenters()\n",
    "centers"
   ]
  },
  {
   "cell_type": "markdown",
   "id": "0a2cfe1c",
   "metadata": {},
   "source": [
    "### Bisecting-Kmeans"
   ]
  },
  {
   "cell_type": "code",
   "execution_count": 18,
   "id": "a9ade060",
   "metadata": {},
   "outputs": [],
   "source": [
    "from pyspark.ml.clustering import BisectingKMeans"
   ]
  },
  {
   "cell_type": "code",
   "execution_count": 19,
   "id": "38081f21",
   "metadata": {},
   "outputs": [],
   "source": [
    "bkmeans = BisectingKMeans().setK(3)"
   ]
  },
  {
   "cell_type": "code",
   "execution_count": 20,
   "id": "a775053f",
   "metadata": {},
   "outputs": [],
   "source": [
    "bkmeans = bkmeans.setSeed(1)"
   ]
  },
  {
   "cell_type": "code",
   "execution_count": 22,
   "id": "246459a3",
   "metadata": {},
   "outputs": [],
   "source": [
    "bkmodel = bkmeans.fit(vcluster_df)\n"
   ]
  },
  {
   "cell_type": "code",
   "execution_count": 23,
   "id": "dd8e4cc7",
   "metadata": {},
   "outputs": [
    {
     "data": {
      "text/plain": [
       "[array([5.12, 5.84, 4.84]),\n",
       " array([35.88461538, 31.46153846, 34.42307692]),\n",
       " array([80.        , 79.20833333, 78.29166667])]"
      ]
     },
     "execution_count": 23,
     "metadata": {},
     "output_type": "execute_result"
    }
   ],
   "source": [
    "bkcenters = bkmodel.clusterCenters()\n",
    "bkcenters"
   ]
  },
  {
   "cell_type": "markdown",
   "id": "cc82263e",
   "metadata": {},
   "source": [
    "### Find optimal number of clusters using silhouette method"
   ]
  },
  {
   "cell_type": "markdown",
   "id": "38118124",
   "metadata": {},
   "source": [
    "Silhouette score is an evaluation metric for the clustering algorithms. It is a measure of similarity between a data point and the other points in a cluster."
   ]
  },
  {
   "cell_type": "markdown",
   "id": "5e919f57",
   "metadata": {},
   "source": [
    "The higher the silhouette score, the better is the clustering. Now, in k means clustering algorithm, the number of clusters (k) is the hyper-parameter to be tuned."
   ]
  },
  {
   "cell_type": "code",
   "execution_count": 25,
   "id": "f5e02fad",
   "metadata": {},
   "outputs": [
    {
     "name": "stdout",
     "output_type": "stream",
     "text": [
      "+----+----+----+-------------+\n",
      "|col1|col2|col3|     features|\n",
      "+----+----+----+-------------+\n",
      "|   7|   4|   1|[7.0,4.0,1.0]|\n",
      "|   7|   7|   9|[7.0,7.0,9.0]|\n",
      "|   7|   9|   6|[7.0,9.0,6.0]|\n",
      "|   1|   6|   5|[1.0,6.0,5.0]|\n",
      "|   6|   7|   7|[6.0,7.0,7.0]|\n",
      "+----+----+----+-------------+\n",
      "only showing top 5 rows\n",
      "\n"
     ]
    }
   ],
   "source": [
    "vcluster_df.show(5)"
   ]
  },
  {
   "cell_type": "code",
   "execution_count": 26,
   "id": "5251dd4a",
   "metadata": {},
   "outputs": [],
   "source": [
    "from pyspark.ml.clustering import KMeans\n",
    "from pyspark.ml.evaluation import ClusteringEvaluator"
   ]
  },
  {
   "cell_type": "code",
   "execution_count": 27,
   "id": "6f7e41a4",
   "metadata": {},
   "outputs": [],
   "source": [
    "silhouette_scores = []\n",
    "evaluator = ClusteringEvaluator(featuresCol=\"features\",\n",
    "                               metricName=\"silhouette\",\n",
    "                               distanceMeasure=\"squaredEuclidean\")\n",
    "\n",
    "for k in range(2,11):\n",
    "    KMeans_ = KMeans(featuresCol=\"features\", k=k)\n",
    "    KMeans_fit = KMeans_.fit(vcluster_df)\n",
    "    KMeans_transform = KMeans_fit.transform(vcluster_df)\n",
    "    evaluation_score = evaluator.evaluate(KMeans_transform)\n",
    "    silhouette_scores.append(evaluation_score)"
   ]
  },
  {
   "cell_type": "code",
   "execution_count": 28,
   "id": "7486abff",
   "metadata": {},
   "outputs": [
    {
     "data": {
      "text/plain": [
       "[0.8467387149751704,\n",
       " 0.8540025504534153,\n",
       " 0.7451371752485546,\n",
       " 0.5943825395773655,\n",
       " 0.6331049464324029,\n",
       " 0.6004807650485838,\n",
       " 0.6386709027425483,\n",
       " 0.6134028069571862,\n",
       " 0.6674785288937359]"
      ]
     },
     "execution_count": 28,
     "metadata": {},
     "output_type": "execute_result"
    }
   ],
   "source": [
    "silhouette_scores"
   ]
  },
  {
   "cell_type": "code",
   "execution_count": 29,
   "id": "e06b2269",
   "metadata": {},
   "outputs": [
    {
     "data": {
      "text/plain": [
       "Text(0, 0.5, 'Silhouette Score')"
      ]
     },
     "execution_count": 29,
     "metadata": {},
     "output_type": "execute_result"
    },
    {
     "data": {
      "image/png": "[encoded data removed]",
      "text/plain": [
       "<Figure size 720x576 with 1 Axes>"
      ]
     },
     "metadata": {
      "needs_background": "light"
     },
     "output_type": "display_data"
    }
   ],
   "source": [
    "import matplotlib.pyplot as plt\n",
    "fig, ax = plt.subplots(1,1, figsize =(10,8))\n",
    "ax.plot(range(2,11),silhouette_scores)\n",
    "ax.set_xlabel('Number of Clusters')\n",
    "ax.set_ylabel('Silhouette Score')"
   ]
  },
  {
   "cell_type": "markdown",
   "id": "5c3cef38",
   "metadata": {},
   "source": [
    "As we can see, here k=3 has highest score"
   ]
  }
 ],
 "metadata": {
  "kernelspec": {
   "display_name": "Python 3 (ipykernel)",
   "language": "python",
   "name": "python3"
  },
  "language_info": {
   "codemirror_mode": {
    "name": "ipython",
    "version": 3
   },
   "file_extension": ".py",
   "mimetype": "text/x-python",
   "name": "python",
   "nbconvert_exporter": "python",
   "pygments_lexer": "ipython3",
   "version": "3.9.12"
  }
 },
 "nbformat": 4,
 "nbformat_minor": 5
}
