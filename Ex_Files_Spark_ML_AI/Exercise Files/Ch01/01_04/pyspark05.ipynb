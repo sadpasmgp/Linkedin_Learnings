{
 "cells": [
  {
   "cell_type": "markdown",
   "id": "05805cbe",
   "metadata": {},
   "source": [
    "### 1. Import libraries"
   ]
  },
  {
   "cell_type": "code",
   "execution_count": 1,
   "id": "1d3ac3a8",
   "metadata": {},
   "outputs": [],
   "source": [
    "import numpy as np\n",
    "import pandas as pd\n",
    "import pyspark\n",
    "import os\n",
    "import urllib\n",
    "import sys\n",
    "\n",
    "from pyspark.sql.functions import *\n",
    "from pyspark.ml.classification import *\n",
    "from pyspark.ml.evaluation import *\n",
    "from pyspark.ml.feature import *\n"
   ]
  },
  {
   "cell_type": "code",
   "execution_count": 2,
   "id": "bb9ac175",
   "metadata": {},
   "outputs": [
    {
     "name": "stderr",
     "output_type": "stream",
     "text": [
      "Setting default log level to \"WARN\".\n",
      "To adjust logging level use sc.setLogLevel(newLevel). For SparkR, use setLogLevel(newLevel).\n"
     ]
    },
    {
     "name": "stdout",
     "output_type": "stream",
     "text": [
      "22/08/15 06:44:19 WARN NativeCodeLoader: Unable to load native-hadoop library for your platform... using builtin-java classes where applicable\n"
     ]
    }
   ],
   "source": [
    "spark = pyspark.sql.SparkSession.builder.appName('Iris').getOrCreate()"
   ]
  },
  {
   "cell_type": "code",
   "execution_count": 3,
   "id": "b4e76c9b",
   "metadata": {},
   "outputs": [
    {
     "name": "stdout",
     "output_type": "stream",
     "text": [
      "****************\n",
      "Python version: 3.9.12 (main, Apr  5 2022, 01:53:17) \n",
      "[Clang 12.0.0 ]\n",
      "Spark version: 3.3.0\n",
      "****************\n"
     ]
    }
   ],
   "source": [
    "# print runtime versions\n",
    "print ('****************')\n",
    "print ('Python version: {}'.format(sys.version))\n",
    "print ('Spark version: {}'.format(spark.version))\n",
    "print ('****************')"
   ]
  },
  {
   "cell_type": "markdown",
   "id": "211c86a5",
   "metadata": {},
   "source": [
    "### 2. Read Data"
   ]
  },
  {
   "cell_type": "code",
   "execution_count": 4,
   "id": "e756fcc7",
   "metadata": {},
   "outputs": [
    {
     "name": "stderr",
     "output_type": "stream",
     "text": [
      "                                                                                \r"
     ]
    },
    {
     "name": "stdout",
     "output_type": "stream",
     "text": [
      "root\n",
      " |-- sepallength: double (nullable = true)\n",
      " |-- sepalwidth: double (nullable = true)\n",
      " |-- petallength: double (nullable = true)\n",
      " |-- petalwidth: double (nullable = true)\n",
      " |-- species: string (nullable = true)\n",
      "\n",
      "+-----------+----------+-----------+----------+-----------+\n",
      "|sepallength|sepalwidth|petallength|petalwidth|    species|\n",
      "+-----------+----------+-----------+----------+-----------+\n",
      "|        5.1|       3.5|        1.4|       0.2|Iris-setosa|\n",
      "|        4.9|       3.0|        1.4|       0.2|Iris-setosa|\n",
      "|        4.7|       3.2|        1.3|       0.2|Iris-setosa|\n",
      "|        4.6|       3.1|        1.5|       0.2|Iris-setosa|\n",
      "|        5.0|       3.6|        1.4|       0.2|Iris-setosa|\n",
      "|        5.4|       3.9|        1.7|       0.4|Iris-setosa|\n",
      "|        4.6|       3.4|        1.4|       0.3|Iris-setosa|\n",
      "|        5.0|       3.4|        1.5|       0.2|Iris-setosa|\n",
      "|        4.4|       2.9|        1.4|       0.2|Iris-setosa|\n",
      "|        4.9|       3.1|        1.5|       0.1|Iris-setosa|\n",
      "|        5.4|       3.7|        1.5|       0.2|Iris-setosa|\n",
      "|        4.8|       3.4|        1.6|       0.2|Iris-setosa|\n",
      "|        4.8|       3.0|        1.4|       0.1|Iris-setosa|\n",
      "|        4.3|       3.0|        1.1|       0.1|Iris-setosa|\n",
      "|        5.8|       4.0|        1.2|       0.2|Iris-setosa|\n",
      "|        5.7|       4.4|        1.5|       0.4|Iris-setosa|\n",
      "|        5.4|       3.9|        1.3|       0.4|Iris-setosa|\n",
      "|        5.1|       3.5|        1.4|       0.3|Iris-setosa|\n",
      "|        5.7|       3.8|        1.7|       0.3|Iris-setosa|\n",
      "|        5.1|       3.8|        1.5|       0.3|Iris-setosa|\n",
      "+-----------+----------+-----------+----------+-----------+\n",
      "only showing top 20 rows\n",
      "\n"
     ]
    }
   ],
   "source": [
    "url = \"https://archive.ics.uci.edu/ml/machine-learning-databases/iris/iris.data\"\n",
    "\n",
    "from pyspark import SparkFiles\n",
    "spark.sparkContext.addFile(url)\n",
    "\n",
    "iris_df = spark.read.csv(\"file://\"+SparkFiles.get(\"iris.data\"),\n",
    "                           header=None,\n",
    "                          #names=['sepal-length', 'sepal-width', 'petal-length', 'petal-width', 'class'],\n",
    "                          inferSchema=True)\n",
    "\n",
    "from functools import reduce\n",
    "\n",
    "newColumns = [\"sepallength\", \"sepalwidth\", \"petallength\", \"petalwidth\", \"species\"]\n",
    "oldColumns = iris_df.schema.names\n",
    "\n",
    "iris_df = reduce(lambda iris_df, idx: iris_df.withColumnRenamed(oldColumns[idx], newColumns[idx]), range(len(oldColumns)), iris_df)\n",
    "iris_df.printSchema()\n",
    "iris_df.show()"
   ]
  },
  {
   "cell_type": "markdown",
   "id": "795dddb5",
   "metadata": {},
   "source": [
    "### 3. Data preprocessing"
   ]
  },
  {
   "cell_type": "code",
   "execution_count": 5,
   "id": "9e9aa519",
   "metadata": {},
   "outputs": [],
   "source": [
    "data = iris_df"
   ]
  },
  {
   "cell_type": "code",
   "execution_count": 6,
   "id": "2b50830e",
   "metadata": {},
   "outputs": [
    {
     "name": "stdout",
     "output_type": "stream",
     "text": [
      "Reading for machine learning\n",
      "+-----------------+-----+\n",
      "|         features|label|\n",
      "+-----------------+-----+\n",
      "|[5.1,3.5,1.4,0.2]|  0.0|\n",
      "|[4.9,3.0,1.4,0.2]|  0.0|\n",
      "|[4.7,3.2,1.3,0.2]|  0.0|\n",
      "|[4.6,3.1,1.5,0.2]|  0.0|\n",
      "|[5.0,3.6,1.4,0.2]|  0.0|\n",
      "|[5.4,3.9,1.7,0.4]|  0.0|\n",
      "|[4.6,3.4,1.4,0.3]|  0.0|\n",
      "|[5.0,3.4,1.5,0.2]|  0.0|\n",
      "|[4.4,2.9,1.4,0.2]|  0.0|\n",
      "|[4.9,3.1,1.5,0.1]|  0.0|\n",
      "+-----------------+-----+\n",
      "only showing top 10 rows\n",
      "\n"
     ]
    }
   ],
   "source": [
    "# vectorize all numerical columns into a single feature column\n",
    "feature_cols = data.columns[:-1]\n",
    "assembler = VectorAssembler(inputCols=feature_cols, \n",
    "                            outputCol='features')\n",
    "data = assembler.transform(data)\n",
    "\n",
    "\n",
    "# convert text labels into indices\n",
    "data = data.select(['features', 'species'])\n",
    "label_indexer = pyspark.ml.feature.StringIndexer(inputCol='species', \n",
    "                                                 outputCol='label').fit(data)\n",
    "data = label_indexer.transform(data)\n",
    "\n",
    "\n",
    "# only select the features and label column\n",
    "data = data.select(['features', 'label'])\n",
    "print(\"Reading for machine learning\")\n",
    "data.show(10)"
   ]
  },
  {
   "cell_type": "markdown",
   "id": "1760c9dc",
   "metadata": {},
   "source": [
    "### 4. Data splitting"
   ]
  },
  {
   "cell_type": "code",
   "execution_count": 7,
   "id": "139af6c0",
   "metadata": {},
   "outputs": [
    {
     "name": "stdout",
     "output_type": "stream",
     "text": [
      "+-----------------+-----+\n",
      "|         features|label|\n",
      "+-----------------+-----+\n",
      "|[4.3,3.0,1.1,0.1]|  0.0|\n",
      "|[4.4,2.9,1.4,0.2]|  0.0|\n",
      "|[4.4,3.0,1.3,0.2]|  0.0|\n",
      "|[4.5,2.3,1.3,0.3]|  0.0|\n",
      "|[4.6,3.1,1.5,0.2]|  0.0|\n",
      "+-----------------+-----+\n",
      "only showing top 5 rows\n",
      "\n",
      "+-----------------+-----+\n",
      "|         features|label|\n",
      "+-----------------+-----+\n",
      "|[4.4,3.2,1.3,0.2]|  0.0|\n",
      "|[4.6,3.2,1.4,0.2]|  0.0|\n",
      "|[4.7,3.2,1.3,0.2]|  0.0|\n",
      "|[4.7,3.2,1.6,0.2]|  0.0|\n",
      "|[4.8,3.0,1.4,0.1]|  0.0|\n",
      "+-----------------+-----+\n",
      "only showing top 5 rows\n",
      "\n"
     ]
    },
    {
     "data": {
      "text/plain": [
       "(104, 46)"
      ]
     },
     "execution_count": 7,
     "metadata": {},
     "output_type": "execute_result"
    }
   ],
   "source": [
    "\n",
    "\n",
    "# use Logistic Regression to train on the training set\n",
    "train, test = data.randomSplit([0.70, 0.30])\n",
    "\n",
    "train.show(5)\n",
    "test.show(5)\n",
    "\n",
    "train.count(), test.count()"
   ]
  },
  {
   "cell_type": "markdown",
   "id": "75c622db",
   "metadata": {},
   "source": [
    "### 5. Model Training"
   ]
  },
  {
   "cell_type": "code",
   "execution_count": 8,
   "id": "a297f051",
   "metadata": {},
   "outputs": [
    {
     "name": "stdout",
     "output_type": "stream",
     "text": [
      "22/08/15 06:44:33 WARN InstanceBuilder$NativeBLAS: Failed to load implementation from:dev.ludovic.netlib.blas.JNIBLAS\n",
      "22/08/15 06:44:33 WARN InstanceBuilder$NativeBLAS: Failed to load implementation from:dev.ludovic.netlib.blas.ForeignLinkerBLAS\n",
      "Prediction\n",
      "+-----------------+-----+--------------------+--------------------+----------+\n",
      "|         features|label|       rawPrediction|         probability|prediction|\n",
      "+-----------------+-----+--------------------+--------------------+----------+\n",
      "|[4.4,3.2,1.3,0.2]|  0.0|[6.20253311437904...|[0.98602204250940...|       0.0|\n",
      "|[4.6,3.2,1.4,0.2]|  0.0|[5.87454175209752...|[0.97825139070968...|       0.0|\n",
      "|[4.7,3.2,1.3,0.2]|  0.0|[5.85330807667506...|[0.97579776058443...|       0.0|\n",
      "|[4.7,3.2,1.6,0.2]|  0.0|[5.56778406523845...|[0.96969418887344...|       0.0|\n",
      "|[4.8,3.0,1.4,0.1]|  0.0|[5.4165838817044,...|[0.94934618947189...|       0.0|\n",
      "|[4.8,3.0,1.4,0.3]|  0.0|[4.98634424850693...|[0.93573217827485...|       0.0|\n",
      "|[4.8,3.1,1.6,0.2]|  0.0|[5.23124522174252...|[0.95095795465397...|       0.0|\n",
      "|[4.8,3.4,1.6,0.2]|  0.0|[5.89163671452631...|[0.98031378803625...|       0.0|\n",
      "|[5.0,2.0,3.5,1.0]|  1.0|[-0.9522842154890...|[0.03351410137714...|       1.0|\n",
      "|[5.0,2.3,3.3,1.0]|  1.0|[-0.1015433817475...|[0.09466245249412...|       1.0|\n",
      "+-----------------+-----+--------------------+--------------------+----------+\n",
      "only showing top 10 rows\n",
      "\n"
     ]
    }
   ],
   "source": [
    "reg=0.01\n",
    "\n",
    "lr = LogisticRegression(regParam=reg)\n",
    "model = lr.fit(train)\n",
    "\n",
    "\n",
    "# predict on the test set\n",
    "prediction = model.transform(test)\n",
    "print(\"Prediction\")\n",
    "prediction.show(10)"
   ]
  },
  {
   "cell_type": "markdown",
   "id": "a8bb3a64",
   "metadata": {},
   "source": [
    "### 6. Model Evaluation"
   ]
  },
  {
   "cell_type": "code",
   "execution_count": 9,
   "id": "7fc5eb0c",
   "metadata": {},
   "outputs": [],
   "source": [
    "# evaluate the accuracy of the model using the test set\n",
    "evaluator = MulticlassClassificationEvaluator(metricName='accuracy')\n",
    "accuracy = evaluator.evaluate(prediction)"
   ]
  },
  {
   "cell_type": "code",
   "execution_count": 10,
   "id": "c87b40e9",
   "metadata": {},
   "outputs": [
    {
     "name": "stdout",
     "output_type": "stream",
     "text": [
      "#####################################\n",
      "Regularization rate is 0.01\n",
      "Accuracy is 0.9565217391304348\n",
      "#####################################\n",
      "\n"
     ]
    }
   ],
   "source": [
    "print('#####################################')\n",
    "print('Regularization rate is {}'.format(reg))\n",
    "print(\"Accuracy is {}\".format(accuracy))\n",
    "print('#####################################')\n",
    "print()"
   ]
  }
 ],
 "metadata": {
  "kernelspec": {
   "display_name": "Python 3 (ipykernel)",
   "language": "python",
   "name": "python3"
  },
  "language_info": {
   "codemirror_mode": {
    "name": "ipython",
    "version": 3
   },
   "file_extension": ".py",
   "mimetype": "text/x-python",
   "name": "python",
   "nbconvert_exporter": "python",
   "pygments_lexer": "ipython3",
   "version": "3.9.12"
  }
 },
 "nbformat": 4,
 "nbformat_minor": 5
}
