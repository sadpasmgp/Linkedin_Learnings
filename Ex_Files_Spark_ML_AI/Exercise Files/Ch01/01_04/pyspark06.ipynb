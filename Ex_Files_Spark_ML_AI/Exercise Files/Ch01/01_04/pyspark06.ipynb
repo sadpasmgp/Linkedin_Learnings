{
 "cells": [
  {
   "cell_type": "markdown",
   "id": "b4831821",
   "metadata": {},
   "source": [
    "### Read libraries"
   ]
  },
  {
   "cell_type": "code",
   "execution_count": 1,
   "id": "10e394b8",
   "metadata": {},
   "outputs": [],
   "source": [
    "import numpy as np\n",
    "import pandas as pd\n",
    "import pyspark\n",
    "import os\n",
    "import urllib\n",
    "import sys\n",
    "\n",
    "from pyspark.sql.functions import *\n",
    "from pyspark.ml.regression import *\n",
    "from pyspark.ml.evaluation import *\n",
    "from pyspark.ml.feature import *\n"
   ]
  },
  {
   "cell_type": "code",
   "execution_count": 2,
   "id": "a7fcd28b",
   "metadata": {},
   "outputs": [
    {
     "name": "stderr",
     "output_type": "stream",
     "text": [
      "Setting default log level to \"WARN\".\n",
      "To adjust logging level use sc.setLogLevel(newLevel). For SparkR, use setLogLevel(newLevel).\n"
     ]
    },
    {
     "name": "stdout",
     "output_type": "stream",
     "text": [
      "22/08/15 07:02:09 WARN NativeCodeLoader: Unable to load native-hadoop library for your platform... using builtin-java classes where applicable\n"
     ]
    }
   ],
   "source": [
    "spark = pyspark.sql.SparkSession.builder.appName('ccpp').getOrCreate()"
   ]
  },
  {
   "cell_type": "markdown",
   "id": "13fbbed3",
   "metadata": {},
   "source": [
    "### Read Data"
   ]
  },
  {
   "cell_type": "code",
   "execution_count": 3,
   "id": "625f7c7a",
   "metadata": {},
   "outputs": [
    {
     "name": "stdout",
     "output_type": "stream",
     "text": [
      "+-----+-----+-------+-----+------+\n",
      "|   AT|    V|     AP|   RH|    PE|\n",
      "+-----+-----+-------+-----+------+\n",
      "|14.96|41.76|1024.07|73.17|463.26|\n",
      "|25.18|62.96|1020.04|59.08|444.37|\n",
      "| 5.11| 39.4|1012.16|92.14|488.56|\n",
      "|20.86|57.32|1010.24|76.64|446.48|\n",
      "|10.82| 37.5|1009.23|96.62| 473.9|\n",
      "+-----+-----+-------+-----+------+\n",
      "only showing top 5 rows\n",
      "\n"
     ]
    }
   ],
   "source": [
    "pp_df = spark.read.csv(\"./ccpp.csv\", header=True, inferSchema=True)\n",
    "pp_df.show(5)\n"
   ]
  },
  {
   "cell_type": "markdown",
   "id": "5c3618a5",
   "metadata": {},
   "source": [
    "### Data preprocessing"
   ]
  },
  {
   "cell_type": "code",
   "execution_count": 4,
   "id": "b46cc87c",
   "metadata": {},
   "outputs": [],
   "source": [
    "data = pp_df"
   ]
  },
  {
   "cell_type": "code",
   "execution_count": 5,
   "id": "0cbed2c0",
   "metadata": {},
   "outputs": [
    {
     "name": "stdout",
     "output_type": "stream",
     "text": [
      "Reading for machine learning\n",
      "+--------------------+------+\n",
      "|            features|    PE|\n",
      "+--------------------+------+\n",
      "|[14.96,41.76,1024...|463.26|\n",
      "|[25.18,62.96,1020...|444.37|\n",
      "|[5.11,39.4,1012.1...|488.56|\n",
      "|[20.86,57.32,1010...|446.48|\n",
      "|[10.82,37.5,1009....| 473.9|\n",
      "|[26.27,59.44,1012...|443.67|\n",
      "|[15.89,43.96,1014...|467.35|\n",
      "|[9.48,44.71,1019....|478.42|\n",
      "|[14.64,45.0,1021....|475.98|\n",
      "|[11.74,43.56,1015...| 477.5|\n",
      "+--------------------+------+\n",
      "only showing top 10 rows\n",
      "\n"
     ]
    }
   ],
   "source": [
    "# vectorize all numerical columns into a single feature column\n",
    "feature_cols = data.columns[:-1]\n",
    "assembler = VectorAssembler(inputCols=feature_cols, \n",
    "                            outputCol='features')\n",
    "data = assembler.transform(data)\n",
    "\n",
    "# only select the features and label column\n",
    "data = data.select(['features', 'PE'])\n",
    "print(\"Reading for machine learning\")\n",
    "data.show(10)"
   ]
  },
  {
   "cell_type": "code",
   "execution_count": 6,
   "id": "cad30370",
   "metadata": {},
   "outputs": [
    {
     "data": {
      "text/plain": [
       "[Row(features=DenseVector([14.96, 41.76, 1024.07, 73.17]), PE=463.26)]"
      ]
     },
     "execution_count": 6,
     "metadata": {},
     "output_type": "execute_result"
    }
   ],
   "source": [
    "data.take(1)"
   ]
  },
  {
   "cell_type": "markdown",
   "id": "af30e32a",
   "metadata": {},
   "source": [
    "### Data Splitting"
   ]
  },
  {
   "cell_type": "code",
   "execution_count": 7,
   "id": "816f6ed6",
   "metadata": {},
   "outputs": [
    {
     "name": "stdout",
     "output_type": "stream",
     "text": [
      "+--------------------+------+\n",
      "|            features|    PE|\n",
      "+--------------------+------+\n",
      "|[1.81,39.42,1026....|490.55|\n",
      "|[2.34,39.42,1028....|490.34|\n",
      "|[2.58,39.42,1028....|488.69|\n",
      "|[2.64,39.64,1011....|481.29|\n",
      "|[2.71,39.42,1026....| 489.3|\n",
      "+--------------------+------+\n",
      "only showing top 5 rows\n",
      "\n",
      "+--------------------+------+\n",
      "|            features|    PE|\n",
      "+--------------------+------+\n",
      "|[3.0,39.64,1011.0...| 485.2|\n",
      "|[3.2,41.31,997.67...|489.86|\n",
      "|[3.38,39.64,1011....|488.92|\n",
      "|[3.68,39.64,1011....|490.02|\n",
      "|[3.85,35.47,1016....|489.78|\n",
      "+--------------------+------+\n",
      "only showing top 5 rows\n",
      "\n"
     ]
    },
    {
     "data": {
      "text/plain": [
       "(6650, 2918)"
      ]
     },
     "execution_count": 7,
     "metadata": {},
     "output_type": "execute_result"
    }
   ],
   "source": [
    "# use Linear Regression to train on the training set\n",
    "train, test = data.randomSplit([0.70, 0.30])\n",
    "\n",
    "train.show(5)\n",
    "test.show(5)\n",
    "\n",
    "train.count(), test.count()"
   ]
  },
  {
   "cell_type": "markdown",
   "id": "d793cbfd",
   "metadata": {},
   "source": [
    "## Linear Regression"
   ]
  },
  {
   "cell_type": "markdown",
   "id": "b5e206b6",
   "metadata": {},
   "source": [
    "### Model Building"
   ]
  },
  {
   "cell_type": "code",
   "execution_count": 9,
   "id": "390c85b2",
   "metadata": {},
   "outputs": [
    {
     "name": "stdout",
     "output_type": "stream",
     "text": [
      "22/08/15 07:02:33 WARN Instrumentation: [20cf86bb] regParam is zero, which might cause numerical instability and overfitting.\n",
      "22/08/15 07:02:33 WARN InstanceBuilder$NativeBLAS: Failed to load implementation from:dev.ludovic.netlib.blas.JNIBLAS\n",
      "22/08/15 07:02:33 WARN InstanceBuilder$NativeBLAS: Failed to load implementation from:dev.ludovic.netlib.blas.ForeignLinkerBLAS\n",
      "22/08/15 07:02:33 WARN InstanceBuilder$NativeLAPACK: Failed to load implementation from:dev.ludovic.netlib.lapack.JNILAPACK\n",
      "Prediction\n",
      "+--------------------+------+------------------+\n",
      "|            features|    PE|        prediction|\n",
      "+--------------------+------+------------------+\n",
      "|[3.0,39.64,1011.0...| 485.2|489.35044589894005|\n",
      "|[3.2,41.31,997.67...|489.86|484.71951680052683|\n",
      "|[3.38,39.64,1011....|488.92|488.43619711472627|\n",
      "|[3.68,39.64,1011....|490.02| 487.4299222915509|\n",
      "|[3.85,35.47,1016....|489.78| 488.2727138654674|\n",
      "|[3.94,39.9,1008.0...|488.81|  484.543952744429|\n",
      "|[3.95,35.47,1017....|488.64| 488.1839494207284|\n",
      "|[3.95,38.44,1016....|492.46| 488.2502536730291|\n",
      "|[3.98,35.47,1017....|489.64| 487.8593182153219|\n",
      "|[4.0,39.9,1009.64...|490.79| 484.5892160990157|\n",
      "+--------------------+------+------------------+\n",
      "only showing top 10 rows\n",
      "\n"
     ]
    }
   ],
   "source": [
    "lr = LinearRegression(featuresCol= 'features',\n",
    "                      labelCol= 'PE',)\n",
    "model = lr.fit(train)\n",
    "\n",
    "\n",
    "# predict on the test set\n",
    "prediction = model.transform(test)\n",
    "print(\"Prediction\")\n",
    "prediction.show(10)"
   ]
  },
  {
   "cell_type": "code",
   "execution_count": 10,
   "id": "581e1e6e",
   "metadata": {},
   "outputs": [
    {
     "data": {
      "text/plain": [
       "(DenseVector([-1.9654, -0.236, 0.0709, -0.155]), 445.3338439190661)"
      ]
     },
     "execution_count": 10,
     "metadata": {},
     "output_type": "execute_result"
    }
   ],
   "source": [
    "model.coefficients, model.intercept"
   ]
  },
  {
   "cell_type": "markdown",
   "id": "ed18ac96",
   "metadata": {},
   "source": [
    "### Model Evaluation"
   ]
  },
  {
   "cell_type": "code",
   "execution_count": 12,
   "id": "a4cb5cba",
   "metadata": {},
   "outputs": [
    {
     "data": {
      "text/plain": [
       "4.580422551341466"
      ]
     },
     "execution_count": 12,
     "metadata": {},
     "output_type": "execute_result"
    }
   ],
   "source": [
    "model.summary.rootMeanSquaredError"
   ]
  },
  {
   "cell_type": "code",
   "execution_count": 13,
   "id": "c6cafe2a",
   "metadata": {},
   "outputs": [
    {
     "data": {
      "text/plain": [
       "3.6241914393767862"
      ]
     },
     "execution_count": 13,
     "metadata": {},
     "output_type": "execute_result"
    }
   ],
   "source": [
    "model.summary.meanAbsoluteError"
   ]
  },
  {
   "cell_type": "markdown",
   "id": "df342eec",
   "metadata": {},
   "source": [
    "### Model pickle"
   ]
  },
  {
   "cell_type": "code",
   "execution_count": 14,
   "id": "8c632a93",
   "metadata": {},
   "outputs": [
    {
     "name": "stderr",
     "output_type": "stream",
     "text": [
      "                                                                                \r"
     ]
    }
   ],
   "source": [
    "model.save('lin_reg.sav')"
   ]
  },
  {
   "cell_type": "markdown",
   "id": "9aa1eb48",
   "metadata": {},
   "source": [
    "## Decision Tree Regression"
   ]
  },
  {
   "cell_type": "code",
   "execution_count": 17,
   "id": "003a21b0",
   "metadata": {},
   "outputs": [
    {
     "name": "stdout",
     "output_type": "stream",
     "text": [
      "Prediction\n",
      "+--------------------+------+------------------+\n",
      "|            features|    PE|        prediction|\n",
      "+--------------------+------+------------------+\n",
      "|[3.0,39.64,1011.0...| 485.2|         485.69716|\n",
      "|[3.2,41.31,997.67...|489.86|482.68819277108435|\n",
      "|[3.38,39.64,1011....|488.92|         485.69716|\n",
      "|[3.68,39.64,1011....|490.02|         485.69716|\n",
      "|[3.85,35.47,1016....|489.78|         485.69716|\n",
      "|[3.94,39.9,1008.0...|488.81|         485.69716|\n",
      "|[3.95,35.47,1017....|488.64|         485.69716|\n",
      "|[3.95,38.44,1016....|492.46|         485.69716|\n",
      "|[3.98,35.47,1017....|489.64|         485.69716|\n",
      "|[4.0,39.9,1009.64...|490.79|         485.69716|\n",
      "+--------------------+------+------------------+\n",
      "only showing top 10 rows\n",
      "\n"
     ]
    }
   ],
   "source": [
    "DT = DecisionTreeRegressor(featuresCol= 'features',\n",
    "                      labelCol= 'PE',)\n",
    "DTmodel = DT.fit(train)\n",
    "\n",
    "\n",
    "# predict on the test set\n",
    "prediction = DTmodel.transform(test)\n",
    "print(\"Prediction\")\n",
    "prediction.show(10)\n",
    "\n"
   ]
  },
  {
   "cell_type": "code",
   "execution_count": 19,
   "id": "c47e267a",
   "metadata": {},
   "outputs": [
    {
     "data": {
      "text/plain": [
       "4.4277655784439665"
      ]
     },
     "execution_count": 19,
     "metadata": {},
     "output_type": "execute_result"
    }
   ],
   "source": [
    "dt_evaluator = RegressionEvaluator(labelCol=\"PE\",\n",
    "                                  predictionCol=\"prediction\",\n",
    "                                  metricName=\"rmse\")\n",
    "\n",
    "rmse = dt_evaluator.evaluate(prediction)\n",
    "rmse"
   ]
  },
  {
   "cell_type": "code",
   "execution_count": 20,
   "id": "a17f7808",
   "metadata": {},
   "outputs": [],
   "source": [
    "\n",
    "DTmodel.save('DecTree_reg.sav')"
   ]
  },
  {
   "cell_type": "markdown",
   "id": "f3801eb5",
   "metadata": {},
   "source": [
    "## Gradient Boosted Tree Regression"
   ]
  },
  {
   "cell_type": "code",
   "execution_count": 21,
   "id": "b2935e00",
   "metadata": {},
   "outputs": [
    {
     "name": "stdout",
     "output_type": "stream",
     "text": [
      "Prediction\n",
      "+--------------------+------+------------------+\n",
      "|            features|    PE|        prediction|\n",
      "+--------------------+------+------------------+\n",
      "|[3.0,39.64,1011.0...| 485.2| 487.1838344408074|\n",
      "|[3.2,41.31,997.67...|489.86| 486.3234691636766|\n",
      "|[3.38,39.64,1011....|488.92| 487.1838344408074|\n",
      "|[3.68,39.64,1011....|490.02| 483.3398164302246|\n",
      "|[3.85,35.47,1016....|489.78|488.15027450787096|\n",
      "|[3.94,39.9,1008.0...|488.81| 489.2199963474435|\n",
      "|[3.95,35.47,1017....|488.64| 487.6059601289539|\n",
      "|[3.95,38.44,1016....|492.46| 486.4251068055292|\n",
      "|[3.98,35.47,1017....|489.64| 488.1241399642476|\n",
      "|[4.0,39.9,1009.64...|490.79| 487.0919093846457|\n",
      "+--------------------+------+------------------+\n",
      "only showing top 10 rows\n",
      "\n"
     ]
    }
   ],
   "source": [
    "GBT = GBTRegressor(featuresCol= 'features',\n",
    "                      labelCol= 'PE',)\n",
    "GBTmodel = GBT.fit(train)\n",
    "\n",
    "\n",
    "# predict on the test set\n",
    "prediction = GBTmodel.transform(test)\n",
    "print(\"Prediction\")\n",
    "prediction.show(10)\n"
   ]
  },
  {
   "cell_type": "code",
   "execution_count": 22,
   "id": "7feb0300",
   "metadata": {},
   "outputs": [
    {
     "data": {
      "text/plain": [
       "3.99004897177047"
      ]
     },
     "execution_count": 22,
     "metadata": {},
     "output_type": "execute_result"
    }
   ],
   "source": [
    "gbt_evaluator = RegressionEvaluator(labelCol=\"PE\",\n",
    "                                  predictionCol=\"prediction\",\n",
    "                                  metricName=\"rmse\")\n",
    "\n",
    "gbtrmse = gbt_evaluator.evaluate(prediction)\n",
    "gbtrmse"
   ]
  },
  {
   "cell_type": "code",
   "execution_count": 24,
   "id": "118e3fb9",
   "metadata": {},
   "outputs": [],
   "source": [
    "\n",
    "GBTmodel.save('GBTree_reg.sav')"
   ]
  }
 ],
 "metadata": {
  "kernelspec": {
   "display_name": "Python 3 (ipykernel)",
   "language": "python",
   "name": "python3"
  },
  "language_info": {
   "codemirror_mode": {
    "name": "ipython",
    "version": 3
   },
   "file_extension": ".py",
   "mimetype": "text/x-python",
   "name": "python",
   "nbconvert_exporter": "python",
   "pygments_lexer": "ipython3",
   "version": "3.9.12"
  }
 },
 "nbformat": 4,
 "nbformat_minor": 5
}
