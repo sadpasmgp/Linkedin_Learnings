{
 "cells": [
  {
   "cell_type": "markdown",
   "id": "ed5b1bb1",
   "metadata": {},
   "source": [
    "## Classification on IRIS Data with pyspark"
   ]
  },
  {
   "cell_type": "code",
   "execution_count": 1,
   "id": "47121aa0",
   "metadata": {},
   "outputs": [
    {
     "name": "stderr",
     "output_type": "stream",
     "text": [
      "Setting default log level to \"WARN\".\n",
      "To adjust logging level use sc.setLogLevel(newLevel). For SparkR, use setLogLevel(newLevel).\n"
     ]
    },
    {
     "name": "stdout",
     "output_type": "stream",
     "text": [
      "22/08/14 10:10:33 WARN NativeCodeLoader: Unable to load native-hadoop library for your platform... using builtin-java classes where applicable\n"
     ]
    }
   ],
   "source": [
    "import pyspark\n",
    "from pyspark.sql import SQLContext, SparkSession\n",
    "\n",
    "spark = SparkSession.builder.getOrCreate()"
   ]
  },
  {
   "cell_type": "code",
   "execution_count": 2,
   "id": "82c8b3c2",
   "metadata": {},
   "outputs": [],
   "source": [
    "from pyspark.sql.functions import *\n",
    "from pyspark.ml.feature import VectorAssembler, StringIndexer"
   ]
  },
  {
   "cell_type": "markdown",
   "id": "40440af4",
   "metadata": {},
   "source": [
    "#### Read data from url"
   ]
  },
  {
   "cell_type": "code",
   "execution_count": 3,
   "id": "7d20040b",
   "metadata": {},
   "outputs": [],
   "source": [
    "url = \"https://archive.ics.uci.edu/ml/machine-learning-databases/iris/iris.data\""
   ]
  },
  {
   "cell_type": "code",
   "execution_count": 4,
   "id": "21e803fd",
   "metadata": {},
   "outputs": [],
   "source": [
    "from pyspark import SparkFiles\n",
    "spark.sparkContext.addFile(url)"
   ]
  },
  {
   "cell_type": "code",
   "execution_count": 5,
   "id": "a46d6b11",
   "metadata": {},
   "outputs": [
    {
     "name": "stderr",
     "output_type": "stream",
     "text": [
      "                                                                                \r"
     ]
    }
   ],
   "source": [
    "iris_df = spark.read.csv(\"file://\"+SparkFiles.get(\"iris.data\"),\n",
    "                           header=False,\n",
    "                          inferSchema=True)"
   ]
  },
  {
   "cell_type": "code",
   "execution_count": 6,
   "id": "93bf6a4b",
   "metadata": {},
   "outputs": [
    {
     "name": "stdout",
     "output_type": "stream",
     "text": [
      "+---+---+---+---+-----------+\n",
      "|_c0|_c1|_c2|_c3|        _c4|\n",
      "+---+---+---+---+-----------+\n",
      "|5.1|3.5|1.4|0.2|Iris-setosa|\n",
      "|4.9|3.0|1.4|0.2|Iris-setosa|\n",
      "|4.7|3.2|1.3|0.2|Iris-setosa|\n",
      "|4.6|3.1|1.5|0.2|Iris-setosa|\n",
      "|5.0|3.6|1.4|0.2|Iris-setosa|\n",
      "+---+---+---+---+-----------+\n",
      "only showing top 5 rows\n",
      "\n"
     ]
    }
   ],
   "source": [
    "iris_df.show(5)"
   ]
  },
  {
   "cell_type": "markdown",
   "id": "afca96b2",
   "metadata": {},
   "source": [
    "#### Dataprep"
   ]
  },
  {
   "cell_type": "code",
   "execution_count": 7,
   "id": "6996086c",
   "metadata": {
    "scrolled": true
   },
   "outputs": [
    {
     "name": "stdout",
     "output_type": "stream",
     "text": [
      "root\n",
      " |-- sepallength: double (nullable = true)\n",
      " |-- sepalwidth: double (nullable = true)\n",
      " |-- petallength: double (nullable = true)\n",
      " |-- petalwidth: double (nullable = true)\n",
      " |-- species: string (nullable = true)\n",
      "\n",
      "+-----------+----------+-----------+----------+-----------+\n",
      "|sepallength|sepalwidth|petallength|petalwidth|    species|\n",
      "+-----------+----------+-----------+----------+-----------+\n",
      "|        5.1|       3.5|        1.4|       0.2|Iris-setosa|\n",
      "|        4.9|       3.0|        1.4|       0.2|Iris-setosa|\n",
      "|        4.7|       3.2|        1.3|       0.2|Iris-setosa|\n",
      "|        4.6|       3.1|        1.5|       0.2|Iris-setosa|\n",
      "|        5.0|       3.6|        1.4|       0.2|Iris-setosa|\n",
      "|        5.4|       3.9|        1.7|       0.4|Iris-setosa|\n",
      "|        4.6|       3.4|        1.4|       0.3|Iris-setosa|\n",
      "|        5.0|       3.4|        1.5|       0.2|Iris-setosa|\n",
      "|        4.4|       2.9|        1.4|       0.2|Iris-setosa|\n",
      "|        4.9|       3.1|        1.5|       0.1|Iris-setosa|\n",
      "|        5.4|       3.7|        1.5|       0.2|Iris-setosa|\n",
      "|        4.8|       3.4|        1.6|       0.2|Iris-setosa|\n",
      "|        4.8|       3.0|        1.4|       0.1|Iris-setosa|\n",
      "|        4.3|       3.0|        1.1|       0.1|Iris-setosa|\n",
      "|        5.8|       4.0|        1.2|       0.2|Iris-setosa|\n",
      "|        5.7|       4.4|        1.5|       0.4|Iris-setosa|\n",
      "|        5.4|       3.9|        1.3|       0.4|Iris-setosa|\n",
      "|        5.1|       3.5|        1.4|       0.3|Iris-setosa|\n",
      "|        5.7|       3.8|        1.7|       0.3|Iris-setosa|\n",
      "|        5.1|       3.8|        1.5|       0.3|Iris-setosa|\n",
      "+-----------+----------+-----------+----------+-----------+\n",
      "only showing top 20 rows\n",
      "\n"
     ]
    }
   ],
   "source": [
    "from functools import reduce\n",
    "\n",
    "newColumns = [\"sepallength\", \"sepalwidth\", \"petallength\", \"petalwidth\", \"species\"]\n",
    "oldColumns = iris_df.schema.names\n",
    "\n",
    "iris_df = reduce(lambda iris_df, idx: iris_df.withColumnRenamed(oldColumns[idx], newColumns[idx]), range(len(oldColumns)), iris_df)\n",
    "iris_df.printSchema()\n",
    "iris_df.show()"
   ]
  },
  {
   "cell_type": "code",
   "execution_count": 8,
   "id": "75c36e5f",
   "metadata": {},
   "outputs": [],
   "source": [
    "vectorAssembler = VectorAssembler(inputCols=[\"sepallength\", \"sepalwidth\", \"petallength\", \"petalwidth\"],\n",
    "                                 outputCol=\"features\")"
   ]
  },
  {
   "cell_type": "code",
   "execution_count": 9,
   "id": "466ebc88",
   "metadata": {},
   "outputs": [
    {
     "name": "stdout",
     "output_type": "stream",
     "text": [
      "+-----------+----------+-----------+----------+-----------+-----------------+\n",
      "|sepallength|sepalwidth|petallength|petalwidth|    species|         features|\n",
      "+-----------+----------+-----------+----------+-----------+-----------------+\n",
      "|        5.1|       3.5|        1.4|       0.2|Iris-setosa|[5.1,3.5,1.4,0.2]|\n",
      "|        4.9|       3.0|        1.4|       0.2|Iris-setosa|[4.9,3.0,1.4,0.2]|\n",
      "|        4.7|       3.2|        1.3|       0.2|Iris-setosa|[4.7,3.2,1.3,0.2]|\n",
      "|        4.6|       3.1|        1.5|       0.2|Iris-setosa|[4.6,3.1,1.5,0.2]|\n",
      "|        5.0|       3.6|        1.4|       0.2|Iris-setosa|[5.0,3.6,1.4,0.2]|\n",
      "+-----------+----------+-----------+----------+-----------+-----------------+\n",
      "only showing top 5 rows\n",
      "\n"
     ]
    }
   ],
   "source": [
    "viris_df = vectorAssembler.transform(iris_df)\n",
    "viris_df.show(5)"
   ]
  },
  {
   "cell_type": "code",
   "execution_count": 10,
   "id": "7a5193a4",
   "metadata": {},
   "outputs": [
    {
     "name": "stdout",
     "output_type": "stream",
     "text": [
      "+-----------+----------+-----------+----------+-----------+-----------------+-----+\n",
      "|sepallength|sepalwidth|petallength|petalwidth|    species|         features|label|\n",
      "+-----------+----------+-----------+----------+-----------+-----------------+-----+\n",
      "|        5.1|       3.5|        1.4|       0.2|Iris-setosa|[5.1,3.5,1.4,0.2]|  0.0|\n",
      "|        4.9|       3.0|        1.4|       0.2|Iris-setosa|[4.9,3.0,1.4,0.2]|  0.0|\n",
      "|        4.7|       3.2|        1.3|       0.2|Iris-setosa|[4.7,3.2,1.3,0.2]|  0.0|\n",
      "|        4.6|       3.1|        1.5|       0.2|Iris-setosa|[4.6,3.1,1.5,0.2]|  0.0|\n",
      "|        5.0|       3.6|        1.4|       0.2|Iris-setosa|[5.0,3.6,1.4,0.2]|  0.0|\n",
      "+-----------+----------+-----------+----------+-----------+-----------------+-----+\n",
      "only showing top 5 rows\n",
      "\n"
     ]
    }
   ],
   "source": [
    "indexer = StringIndexer(inputCol=\"species\",\n",
    "                       outputCol=\"label\")\n",
    "\n",
    "iviris_df = indexer.fit(viris_df).transform(viris_df)\n",
    "iviris_df.show(5)"
   ]
  },
  {
   "cell_type": "markdown",
   "id": "1b63550e",
   "metadata": {},
   "source": [
    "#### Split Data"
   ]
  },
  {
   "cell_type": "code",
   "execution_count": 11,
   "id": "fcb8aadf",
   "metadata": {},
   "outputs": [],
   "source": [
    "from pyspark.ml.classification import NaiveBayes\n",
    "from pyspark.ml.evaluation import MulticlassClassificationEvaluator"
   ]
  },
  {
   "cell_type": "code",
   "execution_count": 12,
   "id": "7de8295d",
   "metadata": {},
   "outputs": [],
   "source": [
    "splits = iviris_df.randomSplit(weights=[0.6,0.4], seed=1)"
   ]
  },
  {
   "cell_type": "code",
   "execution_count": 13,
   "id": "ac3282bd",
   "metadata": {},
   "outputs": [],
   "source": [
    "train_df = splits[0]\n",
    "test_df = splits[1]"
   ]
  },
  {
   "cell_type": "code",
   "execution_count": 14,
   "id": "3d2884e1",
   "metadata": {},
   "outputs": [
    {
     "data": {
      "text/plain": [
       "(98, 52)"
      ]
     },
     "execution_count": 14,
     "metadata": {},
     "output_type": "execute_result"
    }
   ],
   "source": [
    "train_df.count(), test_df.count()"
   ]
  },
  {
   "cell_type": "code",
   "execution_count": 21,
   "id": "ba22421e",
   "metadata": {},
   "outputs": [
    {
     "name": "stdout",
     "output_type": "stream",
     "text": [
      "+-----------+----------+-----------+----------+-----------+-----------------+-----+\n",
      "|sepallength|sepalwidth|petallength|petalwidth|    species|         features|label|\n",
      "+-----------+----------+-----------+----------+-----------+-----------------+-----+\n",
      "|        4.4|       2.9|        1.4|       0.2|Iris-setosa|[4.4,2.9,1.4,0.2]|  0.0|\n",
      "|        4.4|       3.0|        1.3|       0.2|Iris-setosa|[4.4,3.0,1.3,0.2]|  0.0|\n",
      "|        4.4|       3.2|        1.3|       0.2|Iris-setosa|[4.4,3.2,1.3,0.2]|  0.0|\n",
      "|        4.6|       3.2|        1.4|       0.2|Iris-setosa|[4.6,3.2,1.4,0.2]|  0.0|\n",
      "|        4.6|       3.4|        1.4|       0.3|Iris-setosa|[4.6,3.4,1.4,0.3]|  0.0|\n",
      "+-----------+----------+-----------+----------+-----------+-----------------+-----+\n",
      "only showing top 5 rows\n",
      "\n"
     ]
    }
   ],
   "source": [
    "train_df.show(5)"
   ]
  },
  {
   "cell_type": "code",
   "execution_count": 22,
   "id": "780e6478",
   "metadata": {},
   "outputs": [
    {
     "name": "stdout",
     "output_type": "stream",
     "text": [
      "+-----------+----------+-----------+----------+-----------+-----------------+-----+\n",
      "|sepallength|sepalwidth|petallength|petalwidth|    species|         features|label|\n",
      "+-----------+----------+-----------+----------+-----------+-----------------+-----+\n",
      "|        4.3|       3.0|        1.1|       0.1|Iris-setosa|[4.3,3.0,1.1,0.1]|  0.0|\n",
      "|        4.5|       2.3|        1.3|       0.3|Iris-setosa|[4.5,2.3,1.3,0.3]|  0.0|\n",
      "|        4.6|       3.1|        1.5|       0.2|Iris-setosa|[4.6,3.1,1.5,0.2]|  0.0|\n",
      "|        4.7|       3.2|        1.3|       0.2|Iris-setosa|[4.7,3.2,1.3,0.2]|  0.0|\n",
      "|        4.8|       3.1|        1.6|       0.2|Iris-setosa|[4.8,3.1,1.6,0.2]|  0.0|\n",
      "+-----------+----------+-----------+----------+-----------+-----------------+-----+\n",
      "only showing top 5 rows\n",
      "\n"
     ]
    }
   ],
   "source": [
    "test_df.show(5)"
   ]
  },
  {
   "cell_type": "markdown",
   "id": "c667e493",
   "metadata": {},
   "source": [
    "#### Naive Bayes Algorithm"
   ]
  },
  {
   "cell_type": "code",
   "execution_count": 15,
   "id": "d5bfea54",
   "metadata": {},
   "outputs": [],
   "source": [
    "#fit train data, transform test data\n",
    "\n",
    "nb = NaiveBayes(modelType='multinomial')\n",
    "nbmodel = nb.fit(train_df)\n",
    "predictions_df = nbmodel.transform(test_df)"
   ]
  },
  {
   "cell_type": "code",
   "execution_count": 16,
   "id": "1cefdd4d",
   "metadata": {},
   "outputs": [
    {
     "name": "stdout",
     "output_type": "stream",
     "text": [
      "22/08/14 10:11:01 WARN InstanceBuilder$NativeBLAS: Failed to load implementation from:dev.ludovic.netlib.blas.JNIBLAS\n",
      "22/08/14 10:11:01 WARN InstanceBuilder$NativeBLAS: Failed to load implementation from:dev.ludovic.netlib.blas.ForeignLinkerBLAS\n"
     ]
    },
    {
     "data": {
      "text/plain": [
       "[Row(sepallength=4.3, sepalwidth=3.0, petallength=1.1, petalwidth=0.1, species='Iris-setosa', features=DenseVector([4.3, 3.0, 1.1, 0.1]), label=0.0, rawPrediction=DenseVector([-9.9894, -11.3476, -11.902]), probability=DenseVector([0.7118, 0.183, 0.1051]), prediction=0.0)]"
      ]
     },
     "execution_count": 16,
     "metadata": {},
     "output_type": "execute_result"
    }
   ],
   "source": [
    "predictions_df.take(1)"
   ]
  },
  {
   "cell_type": "code",
   "execution_count": 17,
   "id": "bd926b33",
   "metadata": {},
   "outputs": [],
   "source": [
    "evaluator = MulticlassClassificationEvaluator(labelCol=\"label\",\n",
    "                                             predictionCol=\"prediction\",\n",
    "                                             metricName=\"accuracy\")\n",
    "\n",
    "nbaccuracy = evaluator.evaluate(predictions_df)"
   ]
  },
  {
   "cell_type": "code",
   "execution_count": 18,
   "id": "e8e837a3",
   "metadata": {},
   "outputs": [
    {
     "data": {
      "text/plain": [
       "0.9807692307692307"
      ]
     },
     "execution_count": 18,
     "metadata": {},
     "output_type": "execute_result"
    }
   ],
   "source": [
    "nbaccuracy"
   ]
  },
  {
   "cell_type": "code",
   "execution_count": 19,
   "id": "6d11103f",
   "metadata": {},
   "outputs": [],
   "source": [
    "evaluator1 = MulticlassClassificationEvaluator(labelCol=\"label\",\n",
    "                                             predictionCol=\"prediction\",\n",
    "                                             metricName=\"f1\")\n",
    "\n",
    "nbf1 = evaluator1.evaluate(predictions_df)"
   ]
  },
  {
   "cell_type": "code",
   "execution_count": 20,
   "id": "419689d0",
   "metadata": {},
   "outputs": [
    {
     "data": {
      "text/plain": [
       "0.9807504323633356"
      ]
     },
     "execution_count": 20,
     "metadata": {},
     "output_type": "execute_result"
    }
   ],
   "source": [
    "nbf1"
   ]
  },
  {
   "cell_type": "markdown",
   "id": "679c0528",
   "metadata": {},
   "source": [
    "We have Accuracy of 98% and F1 of 98%"
   ]
  },
  {
   "cell_type": "markdown",
   "id": "7707ee53",
   "metadata": {},
   "source": [
    "#### Multi-Layer Perceptron"
   ]
  },
  {
   "cell_type": "code",
   "execution_count": 23,
   "id": "21d6b1d8",
   "metadata": {},
   "outputs": [
    {
     "data": {
      "text/plain": [
       "[Row(sepallength=4.4, sepalwidth=2.9, petallength=1.4, petalwidth=0.2, species='Iris-setosa', features=DenseVector([4.4, 2.9, 1.4, 0.2]), label=0.0)]"
      ]
     },
     "execution_count": 23,
     "metadata": {},
     "output_type": "execute_result"
    }
   ],
   "source": [
    "train_df.take(1)"
   ]
  },
  {
   "cell_type": "code",
   "execution_count": 24,
   "id": "05f777fa",
   "metadata": {},
   "outputs": [
    {
     "data": {
      "text/plain": [
       "[Row(sepallength=4.3, sepalwidth=3.0, petallength=1.1, petalwidth=0.1, species='Iris-setosa', features=DenseVector([4.3, 3.0, 1.1, 0.1]), label=0.0)]"
      ]
     },
     "execution_count": 24,
     "metadata": {},
     "output_type": "execute_result"
    }
   ],
   "source": [
    "test_df.take(1)"
   ]
  },
  {
   "cell_type": "code",
   "execution_count": 25,
   "id": "688caf67",
   "metadata": {},
   "outputs": [],
   "source": [
    "from pyspark.ml.classification import MultilayerPerceptronClassifier"
   ]
  },
  {
   "cell_type": "code",
   "execution_count": 26,
   "id": "aaf32828",
   "metadata": {},
   "outputs": [],
   "source": [
    "layers = [4, 5, 5, 3]\n",
    "\n",
    "mlp = MultilayerPerceptronClassifier(layers=layers, seed=1)\n",
    "mlp_model = mlp.fit(train_df)\n",
    "mlp_pred = mlp_model.transform(test_df)"
   ]
  },
  {
   "cell_type": "code",
   "execution_count": 27,
   "id": "8dd4f0a6",
   "metadata": {},
   "outputs": [
    {
     "data": {
      "text/plain": [
       "0.6923076923076923"
      ]
     },
     "execution_count": 27,
     "metadata": {},
     "output_type": "execute_result"
    }
   ],
   "source": [
    "mlp_eval = MulticlassClassificationEvaluator(metricName=\"accuracy\")\n",
    "mlp_accuracy = mlp_eval.evaluate(mlp_pred)\n",
    "mlp_accuracy"
   ]
  },
  {
   "cell_type": "code",
   "execution_count": null,
   "id": "eb25226d",
   "metadata": {},
   "outputs": [],
   "source": []
  },
  {
   "cell_type": "code",
   "execution_count": null,
   "id": "90655e15",
   "metadata": {},
   "outputs": [],
   "source": []
  },
  {
   "cell_type": "code",
   "execution_count": null,
   "id": "26f68021",
   "metadata": {},
   "outputs": [],
   "source": []
  },
  {
   "cell_type": "code",
   "execution_count": null,
   "id": "94a83e7b",
   "metadata": {},
   "outputs": [],
   "source": []
  }
 ],
 "metadata": {
  "kernelspec": {
   "display_name": "Python 3 (ipykernel)",
   "language": "python",
   "name": "python3"
  },
  "language_info": {
   "codemirror_mode": {
    "name": "ipython",
    "version": 3
   },
   "file_extension": ".py",
   "mimetype": "text/x-python",
   "name": "python",
   "nbconvert_exporter": "python",
   "pygments_lexer": "ipython3",
   "version": "3.9.12"
  }
 },
 "nbformat": 4,
 "nbformat_minor": 5
}
